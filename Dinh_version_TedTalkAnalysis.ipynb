{
 "cells": [
  {
   "cell_type": "markdown",
   "metadata": {
    "colab_type": "text",
    "id": "dBWqEsQCBxwl"
   },
   "source": [
    "# Team 4 - Ted Talks\n",
    "\n",
    "![](https://psmarketingimages.s3.amazonaws.com/blog/wp-content/uploads/2017/04/23103819/TED-Talks-for-Small-Business-and-Entrepreneurs.jpg)"
   ]
  },
  {
   "cell_type": "markdown",
   "metadata": {
    "colab_type": "text",
    "id": "lVSOu8FAv_Yr"
   },
   "source": [
    "## Overview about dataset\n",
    "These datasets contain information about all audio-video recordings of TED Talks uploaded to the official TED.com website until September 21st, 2017. The TED main dataset contains information about all talks including number of views, number of comments, descriptions, speakers and titles. The TED transcripts dataset contains the transcripts for all talks available on TED.com.\n",
    "\n",
    "Description of columns:\n",
    "* comments: The number of first level comments made on the talk\n",
    "* description: A blurb of what the talk is about\n",
    "* duration: The duration of the talk in seconds\n",
    "* event: The TED/TEDx event where the talk took place\n",
    "* film_date: The Unix timestamp of the filming\n",
    "* languages: The number of languages in which the talk is available\n",
    "* main_speaker: The first named speaker of the talk\n",
    "* name: The official name of the TED Talk. Includes the title and the speaker.\n",
    "* num_speaker: The number of speakers in the talk\n",
    "* published_date: The Unix timestamp for the publication of the talk on TED.com\n",
    "* ratings: A stringified dictionary of the various ratings given to the talk (inspiring, fascinating, jaw dropping, etc.)\n",
    "related_talks: A list of dictionaries of recommended talks to watch next\n",
    "* speaker_occupation: The occupation of the main speaker\n",
    "* tags: The themes associated with the talk\n",
    "* title: The title of the talk\n",
    "* url: The URL of the talk\n",
    "* views: The number of views on the talk"
   ]
  },
  {
   "cell_type": "markdown",
   "metadata": {
    "colab_type": "text",
    "id": "ZLgiMs19Dtbl"
   },
   "source": [
    "## Cleaning Process"
   ]
  },
  {
   "cell_type": "markdown",
   "metadata": {
    "colab_type": "text",
    "id": "vlp5NYOxD4TB"
   },
   "source": [
    "### Load libraries and have a look at dataset"
   ]
  },
  {
   "cell_type": "code",
   "execution_count": 1,
   "metadata": {
    "colab": {},
    "colab_type": "code",
    "id": "eZmBubEiEAhv"
   },
   "outputs": [],
   "source": [
    "import pandas as pd\n",
    "import numpy as np\n",
    "import matplotlib.pyplot as plt\n",
    "import seaborn as sns\n",
    "\n",
    "from datetime import datetime"
   ]
  },
  {
   "cell_type": "code",
   "execution_count": 2,
   "metadata": {
    "colab": {},
    "colab_type": "code",
    "id": "WMHMuBtmEfrl"
   },
   "outputs": [],
   "source": [
    "# Read the dataset\n",
    "data = pd.read_csv('ted_main.csv')"
   ]
  },
  {
   "cell_type": "code",
   "execution_count": 3,
   "metadata": {
    "colab": {},
    "colab_type": "code",
    "id": "dPzOgYeb55Dp"
   },
   "outputs": [
    {
     "name": "stdout",
     "output_type": "stream",
     "text": [
      "<class 'pandas.core.frame.DataFrame'>\n",
      "RangeIndex: 2550 entries, 0 to 2549\n",
      "Data columns (total 17 columns):\n",
      "comments              2550 non-null int64\n",
      "description           2550 non-null object\n",
      "duration              2550 non-null int64\n",
      "event                 2550 non-null object\n",
      "film_date             2550 non-null int64\n",
      "languages             2550 non-null int64\n",
      "main_speaker          2550 non-null object\n",
      "name                  2550 non-null object\n",
      "num_speaker           2550 non-null int64\n",
      "published_date        2550 non-null int64\n",
      "ratings               2550 non-null object\n",
      "related_talks         2550 non-null object\n",
      "speaker_occupation    2544 non-null object\n",
      "tags                  2550 non-null object\n",
      "title                 2550 non-null object\n",
      "url                   2550 non-null object\n",
      "views                 2550 non-null int64\n",
      "dtypes: int64(7), object(10)\n",
      "memory usage: 338.8+ KB\n"
     ]
    }
   ],
   "source": [
    "data.info()"
   ]
  },
  {
   "cell_type": "code",
   "execution_count": 4,
   "metadata": {
    "colab": {
     "base_uri": "https://localhost:8080/",
     "height": 584
    },
    "colab_type": "code",
    "executionInfo": {
     "elapsed": 1197,
     "status": "ok",
     "timestamp": 1576164532206,
     "user": {
      "displayName": "Dinh Nguyễn",
      "photoUrl": "",
      "userId": "10515043973440487618"
     },
     "user_tz": -420
    },
    "id": "WNwYWt32irrg",
    "outputId": "a02142a9-4e93-45ea-eb26-8fca99cf4427"
   },
   "outputs": [
    {
     "data": {
      "text/html": [
       "<div>\n",
       "<style scoped>\n",
       "    .dataframe tbody tr th:only-of-type {\n",
       "        vertical-align: middle;\n",
       "    }\n",
       "\n",
       "    .dataframe tbody tr th {\n",
       "        vertical-align: top;\n",
       "    }\n",
       "\n",
       "    .dataframe thead th {\n",
       "        text-align: right;\n",
       "    }\n",
       "</style>\n",
       "<table border=\"1\" class=\"dataframe\">\n",
       "  <thead>\n",
       "    <tr style=\"text-align: right;\">\n",
       "      <th></th>\n",
       "      <th>comments</th>\n",
       "      <th>description</th>\n",
       "      <th>duration</th>\n",
       "      <th>event</th>\n",
       "      <th>film_date</th>\n",
       "      <th>languages</th>\n",
       "      <th>main_speaker</th>\n",
       "      <th>name</th>\n",
       "      <th>num_speaker</th>\n",
       "      <th>published_date</th>\n",
       "      <th>ratings</th>\n",
       "      <th>related_talks</th>\n",
       "      <th>speaker_occupation</th>\n",
       "      <th>tags</th>\n",
       "      <th>title</th>\n",
       "      <th>url</th>\n",
       "      <th>views</th>\n",
       "    </tr>\n",
       "  </thead>\n",
       "  <tbody>\n",
       "    <tr>\n",
       "      <th>0</th>\n",
       "      <td>4553</td>\n",
       "      <td>Sir Ken Robinson makes an entertaining and pro...</td>\n",
       "      <td>1164</td>\n",
       "      <td>TED2006</td>\n",
       "      <td>1140825600</td>\n",
       "      <td>60</td>\n",
       "      <td>Ken Robinson</td>\n",
       "      <td>Ken Robinson: Do schools kill creativity?</td>\n",
       "      <td>1</td>\n",
       "      <td>1151367060</td>\n",
       "      <td>[{'id': 7, 'name': 'Funny', 'count': 19645}, {...</td>\n",
       "      <td>[{'id': 865, 'hero': 'https://pe.tedcdn.com/im...</td>\n",
       "      <td>Author/educator</td>\n",
       "      <td>['children', 'creativity', 'culture', 'dance',...</td>\n",
       "      <td>Do schools kill creativity?</td>\n",
       "      <td>https://www.ted.com/talks/ken_robinson_says_sc...</td>\n",
       "      <td>47227110</td>\n",
       "    </tr>\n",
       "    <tr>\n",
       "      <th>1</th>\n",
       "      <td>265</td>\n",
       "      <td>With the same humor and humanity he exuded in ...</td>\n",
       "      <td>977</td>\n",
       "      <td>TED2006</td>\n",
       "      <td>1140825600</td>\n",
       "      <td>43</td>\n",
       "      <td>Al Gore</td>\n",
       "      <td>Al Gore: Averting the climate crisis</td>\n",
       "      <td>1</td>\n",
       "      <td>1151367060</td>\n",
       "      <td>[{'id': 7, 'name': 'Funny', 'count': 544}, {'i...</td>\n",
       "      <td>[{'id': 243, 'hero': 'https://pe.tedcdn.com/im...</td>\n",
       "      <td>Climate advocate</td>\n",
       "      <td>['alternative energy', 'cars', 'climate change...</td>\n",
       "      <td>Averting the climate crisis</td>\n",
       "      <td>https://www.ted.com/talks/al_gore_on_averting_...</td>\n",
       "      <td>3200520</td>\n",
       "    </tr>\n",
       "    <tr>\n",
       "      <th>2</th>\n",
       "      <td>124</td>\n",
       "      <td>New York Times columnist David Pogue takes aim...</td>\n",
       "      <td>1286</td>\n",
       "      <td>TED2006</td>\n",
       "      <td>1140739200</td>\n",
       "      <td>26</td>\n",
       "      <td>David Pogue</td>\n",
       "      <td>David Pogue: Simplicity sells</td>\n",
       "      <td>1</td>\n",
       "      <td>1151367060</td>\n",
       "      <td>[{'id': 7, 'name': 'Funny', 'count': 964}, {'i...</td>\n",
       "      <td>[{'id': 1725, 'hero': 'https://pe.tedcdn.com/i...</td>\n",
       "      <td>Technology columnist</td>\n",
       "      <td>['computers', 'entertainment', 'interface desi...</td>\n",
       "      <td>Simplicity sells</td>\n",
       "      <td>https://www.ted.com/talks/david_pogue_says_sim...</td>\n",
       "      <td>1636292</td>\n",
       "    </tr>\n",
       "    <tr>\n",
       "      <th>3</th>\n",
       "      <td>200</td>\n",
       "      <td>In an emotionally charged talk, MacArthur-winn...</td>\n",
       "      <td>1116</td>\n",
       "      <td>TED2006</td>\n",
       "      <td>1140912000</td>\n",
       "      <td>35</td>\n",
       "      <td>Majora Carter</td>\n",
       "      <td>Majora Carter: Greening the ghetto</td>\n",
       "      <td>1</td>\n",
       "      <td>1151367060</td>\n",
       "      <td>[{'id': 3, 'name': 'Courageous', 'count': 760}...</td>\n",
       "      <td>[{'id': 1041, 'hero': 'https://pe.tedcdn.com/i...</td>\n",
       "      <td>Activist for environmental justice</td>\n",
       "      <td>['MacArthur grant', 'activism', 'business', 'c...</td>\n",
       "      <td>Greening the ghetto</td>\n",
       "      <td>https://www.ted.com/talks/majora_carter_s_tale...</td>\n",
       "      <td>1697550</td>\n",
       "    </tr>\n",
       "    <tr>\n",
       "      <th>4</th>\n",
       "      <td>593</td>\n",
       "      <td>You've never seen data presented like this. Wi...</td>\n",
       "      <td>1190</td>\n",
       "      <td>TED2006</td>\n",
       "      <td>1140566400</td>\n",
       "      <td>48</td>\n",
       "      <td>Hans Rosling</td>\n",
       "      <td>Hans Rosling: The best stats you've ever seen</td>\n",
       "      <td>1</td>\n",
       "      <td>1151440680</td>\n",
       "      <td>[{'id': 9, 'name': 'Ingenious', 'count': 3202}...</td>\n",
       "      <td>[{'id': 2056, 'hero': 'https://pe.tedcdn.com/i...</td>\n",
       "      <td>Global health expert; data visionary</td>\n",
       "      <td>['Africa', 'Asia', 'Google', 'demo', 'economic...</td>\n",
       "      <td>The best stats you've ever seen</td>\n",
       "      <td>https://www.ted.com/talks/hans_rosling_shows_t...</td>\n",
       "      <td>12005869</td>\n",
       "    </tr>\n",
       "  </tbody>\n",
       "</table>\n",
       "</div>"
      ],
      "text/plain": [
       "   comments                                        description  duration  \\\n",
       "0      4553  Sir Ken Robinson makes an entertaining and pro...      1164   \n",
       "1       265  With the same humor and humanity he exuded in ...       977   \n",
       "2       124  New York Times columnist David Pogue takes aim...      1286   \n",
       "3       200  In an emotionally charged talk, MacArthur-winn...      1116   \n",
       "4       593  You've never seen data presented like this. Wi...      1190   \n",
       "\n",
       "     event   film_date  languages   main_speaker  \\\n",
       "0  TED2006  1140825600         60   Ken Robinson   \n",
       "1  TED2006  1140825600         43        Al Gore   \n",
       "2  TED2006  1140739200         26    David Pogue   \n",
       "3  TED2006  1140912000         35  Majora Carter   \n",
       "4  TED2006  1140566400         48   Hans Rosling   \n",
       "\n",
       "                                            name  num_speaker  published_date  \\\n",
       "0      Ken Robinson: Do schools kill creativity?            1      1151367060   \n",
       "1           Al Gore: Averting the climate crisis            1      1151367060   \n",
       "2                  David Pogue: Simplicity sells            1      1151367060   \n",
       "3             Majora Carter: Greening the ghetto            1      1151367060   \n",
       "4  Hans Rosling: The best stats you've ever seen            1      1151440680   \n",
       "\n",
       "                                             ratings  \\\n",
       "0  [{'id': 7, 'name': 'Funny', 'count': 19645}, {...   \n",
       "1  [{'id': 7, 'name': 'Funny', 'count': 544}, {'i...   \n",
       "2  [{'id': 7, 'name': 'Funny', 'count': 964}, {'i...   \n",
       "3  [{'id': 3, 'name': 'Courageous', 'count': 760}...   \n",
       "4  [{'id': 9, 'name': 'Ingenious', 'count': 3202}...   \n",
       "\n",
       "                                       related_talks  \\\n",
       "0  [{'id': 865, 'hero': 'https://pe.tedcdn.com/im...   \n",
       "1  [{'id': 243, 'hero': 'https://pe.tedcdn.com/im...   \n",
       "2  [{'id': 1725, 'hero': 'https://pe.tedcdn.com/i...   \n",
       "3  [{'id': 1041, 'hero': 'https://pe.tedcdn.com/i...   \n",
       "4  [{'id': 2056, 'hero': 'https://pe.tedcdn.com/i...   \n",
       "\n",
       "                     speaker_occupation  \\\n",
       "0                       Author/educator   \n",
       "1                      Climate advocate   \n",
       "2                  Technology columnist   \n",
       "3    Activist for environmental justice   \n",
       "4  Global health expert; data visionary   \n",
       "\n",
       "                                                tags  \\\n",
       "0  ['children', 'creativity', 'culture', 'dance',...   \n",
       "1  ['alternative energy', 'cars', 'climate change...   \n",
       "2  ['computers', 'entertainment', 'interface desi...   \n",
       "3  ['MacArthur grant', 'activism', 'business', 'c...   \n",
       "4  ['Africa', 'Asia', 'Google', 'demo', 'economic...   \n",
       "\n",
       "                             title  \\\n",
       "0      Do schools kill creativity?   \n",
       "1      Averting the climate crisis   \n",
       "2                 Simplicity sells   \n",
       "3              Greening the ghetto   \n",
       "4  The best stats you've ever seen   \n",
       "\n",
       "                                                 url     views  \n",
       "0  https://www.ted.com/talks/ken_robinson_says_sc...  47227110  \n",
       "1  https://www.ted.com/talks/al_gore_on_averting_...   3200520  \n",
       "2  https://www.ted.com/talks/david_pogue_says_sim...   1636292  \n",
       "3  https://www.ted.com/talks/majora_carter_s_tale...   1697550  \n",
       "4  https://www.ted.com/talks/hans_rosling_shows_t...  12005869  "
      ]
     },
     "execution_count": 4,
     "metadata": {},
     "output_type": "execute_result"
    }
   ],
   "source": [
    "data.head()"
   ]
  },
  {
   "cell_type": "code",
   "execution_count": 5,
   "metadata": {
    "colab": {},
    "colab_type": "code",
    "id": "f-8eJD_mitu3"
   },
   "outputs": [],
   "source": [
    "data['speaker_occupation'] = data['speaker_occupation'].fillna('not recorded')"
   ]
  },
  {
   "cell_type": "markdown",
   "metadata": {
    "colab_type": "text",
    "id": "IWJzLrlmmd1R"
   },
   "source": [
    "Add **duration in minutes and id** columns for data"
   ]
  },
  {
   "cell_type": "code",
   "execution_count": 6,
   "metadata": {
    "colab": {},
    "colab_type": "code",
    "id": "MBGqDHJ3mnxN"
   },
   "outputs": [],
   "source": [
    "data['talk_id'] = np.arange(1,2551)"
   ]
  },
  {
   "cell_type": "code",
   "execution_count": 7,
   "metadata": {
    "colab": {},
    "colab_type": "code",
    "id": "Rw-sp13Jjvga"
   },
   "outputs": [],
   "source": [
    "data['duration_minutes'] = data['duration'] / 60"
   ]
  },
  {
   "cell_type": "code",
   "execution_count": 8,
   "metadata": {
    "colab": {},
    "colab_type": "code",
    "id": "pAu-4bB6EW_s"
   },
   "outputs": [
    {
     "name": "stdout",
     "output_type": "stream",
     "text": [
      "(2550, 19)\n"
     ]
    },
    {
     "data": {
      "text/html": [
       "<div>\n",
       "<style scoped>\n",
       "    .dataframe tbody tr th:only-of-type {\n",
       "        vertical-align: middle;\n",
       "    }\n",
       "\n",
       "    .dataframe tbody tr th {\n",
       "        vertical-align: top;\n",
       "    }\n",
       "\n",
       "    .dataframe thead th {\n",
       "        text-align: right;\n",
       "    }\n",
       "</style>\n",
       "<table border=\"1\" class=\"dataframe\">\n",
       "  <thead>\n",
       "    <tr style=\"text-align: right;\">\n",
       "      <th></th>\n",
       "      <th>comments</th>\n",
       "      <th>description</th>\n",
       "      <th>duration</th>\n",
       "      <th>event</th>\n",
       "      <th>film_date</th>\n",
       "      <th>languages</th>\n",
       "      <th>main_speaker</th>\n",
       "      <th>name</th>\n",
       "      <th>num_speaker</th>\n",
       "      <th>published_date</th>\n",
       "      <th>ratings</th>\n",
       "      <th>related_talks</th>\n",
       "      <th>speaker_occupation</th>\n",
       "      <th>tags</th>\n",
       "      <th>title</th>\n",
       "      <th>url</th>\n",
       "      <th>views</th>\n",
       "      <th>talk_id</th>\n",
       "      <th>duration_minutes</th>\n",
       "    </tr>\n",
       "  </thead>\n",
       "  <tbody>\n",
       "    <tr>\n",
       "      <th>0</th>\n",
       "      <td>4553</td>\n",
       "      <td>Sir Ken Robinson makes an entertaining and pro...</td>\n",
       "      <td>1164</td>\n",
       "      <td>TED2006</td>\n",
       "      <td>1140825600</td>\n",
       "      <td>60</td>\n",
       "      <td>Ken Robinson</td>\n",
       "      <td>Ken Robinson: Do schools kill creativity?</td>\n",
       "      <td>1</td>\n",
       "      <td>1151367060</td>\n",
       "      <td>[{'id': 7, 'name': 'Funny', 'count': 19645}, {...</td>\n",
       "      <td>[{'id': 865, 'hero': 'https://pe.tedcdn.com/im...</td>\n",
       "      <td>Author/educator</td>\n",
       "      <td>['children', 'creativity', 'culture', 'dance',...</td>\n",
       "      <td>Do schools kill creativity?</td>\n",
       "      <td>https://www.ted.com/talks/ken_robinson_says_sc...</td>\n",
       "      <td>47227110</td>\n",
       "      <td>1</td>\n",
       "      <td>19.400000</td>\n",
       "    </tr>\n",
       "    <tr>\n",
       "      <th>1</th>\n",
       "      <td>265</td>\n",
       "      <td>With the same humor and humanity he exuded in ...</td>\n",
       "      <td>977</td>\n",
       "      <td>TED2006</td>\n",
       "      <td>1140825600</td>\n",
       "      <td>43</td>\n",
       "      <td>Al Gore</td>\n",
       "      <td>Al Gore: Averting the climate crisis</td>\n",
       "      <td>1</td>\n",
       "      <td>1151367060</td>\n",
       "      <td>[{'id': 7, 'name': 'Funny', 'count': 544}, {'i...</td>\n",
       "      <td>[{'id': 243, 'hero': 'https://pe.tedcdn.com/im...</td>\n",
       "      <td>Climate advocate</td>\n",
       "      <td>['alternative energy', 'cars', 'climate change...</td>\n",
       "      <td>Averting the climate crisis</td>\n",
       "      <td>https://www.ted.com/talks/al_gore_on_averting_...</td>\n",
       "      <td>3200520</td>\n",
       "      <td>2</td>\n",
       "      <td>16.283333</td>\n",
       "    </tr>\n",
       "    <tr>\n",
       "      <th>2</th>\n",
       "      <td>124</td>\n",
       "      <td>New York Times columnist David Pogue takes aim...</td>\n",
       "      <td>1286</td>\n",
       "      <td>TED2006</td>\n",
       "      <td>1140739200</td>\n",
       "      <td>26</td>\n",
       "      <td>David Pogue</td>\n",
       "      <td>David Pogue: Simplicity sells</td>\n",
       "      <td>1</td>\n",
       "      <td>1151367060</td>\n",
       "      <td>[{'id': 7, 'name': 'Funny', 'count': 964}, {'i...</td>\n",
       "      <td>[{'id': 1725, 'hero': 'https://pe.tedcdn.com/i...</td>\n",
       "      <td>Technology columnist</td>\n",
       "      <td>['computers', 'entertainment', 'interface desi...</td>\n",
       "      <td>Simplicity sells</td>\n",
       "      <td>https://www.ted.com/talks/david_pogue_says_sim...</td>\n",
       "      <td>1636292</td>\n",
       "      <td>3</td>\n",
       "      <td>21.433333</td>\n",
       "    </tr>\n",
       "    <tr>\n",
       "      <th>3</th>\n",
       "      <td>200</td>\n",
       "      <td>In an emotionally charged talk, MacArthur-winn...</td>\n",
       "      <td>1116</td>\n",
       "      <td>TED2006</td>\n",
       "      <td>1140912000</td>\n",
       "      <td>35</td>\n",
       "      <td>Majora Carter</td>\n",
       "      <td>Majora Carter: Greening the ghetto</td>\n",
       "      <td>1</td>\n",
       "      <td>1151367060</td>\n",
       "      <td>[{'id': 3, 'name': 'Courageous', 'count': 760}...</td>\n",
       "      <td>[{'id': 1041, 'hero': 'https://pe.tedcdn.com/i...</td>\n",
       "      <td>Activist for environmental justice</td>\n",
       "      <td>['MacArthur grant', 'activism', 'business', 'c...</td>\n",
       "      <td>Greening the ghetto</td>\n",
       "      <td>https://www.ted.com/talks/majora_carter_s_tale...</td>\n",
       "      <td>1697550</td>\n",
       "      <td>4</td>\n",
       "      <td>18.600000</td>\n",
       "    </tr>\n",
       "    <tr>\n",
       "      <th>4</th>\n",
       "      <td>593</td>\n",
       "      <td>You've never seen data presented like this. Wi...</td>\n",
       "      <td>1190</td>\n",
       "      <td>TED2006</td>\n",
       "      <td>1140566400</td>\n",
       "      <td>48</td>\n",
       "      <td>Hans Rosling</td>\n",
       "      <td>Hans Rosling: The best stats you've ever seen</td>\n",
       "      <td>1</td>\n",
       "      <td>1151440680</td>\n",
       "      <td>[{'id': 9, 'name': 'Ingenious', 'count': 3202}...</td>\n",
       "      <td>[{'id': 2056, 'hero': 'https://pe.tedcdn.com/i...</td>\n",
       "      <td>Global health expert; data visionary</td>\n",
       "      <td>['Africa', 'Asia', 'Google', 'demo', 'economic...</td>\n",
       "      <td>The best stats you've ever seen</td>\n",
       "      <td>https://www.ted.com/talks/hans_rosling_shows_t...</td>\n",
       "      <td>12005869</td>\n",
       "      <td>5</td>\n",
       "      <td>19.833333</td>\n",
       "    </tr>\n",
       "  </tbody>\n",
       "</table>\n",
       "</div>"
      ],
      "text/plain": [
       "   comments                                        description  duration  \\\n",
       "0      4553  Sir Ken Robinson makes an entertaining and pro...      1164   \n",
       "1       265  With the same humor and humanity he exuded in ...       977   \n",
       "2       124  New York Times columnist David Pogue takes aim...      1286   \n",
       "3       200  In an emotionally charged talk, MacArthur-winn...      1116   \n",
       "4       593  You've never seen data presented like this. Wi...      1190   \n",
       "\n",
       "     event   film_date  languages   main_speaker  \\\n",
       "0  TED2006  1140825600         60   Ken Robinson   \n",
       "1  TED2006  1140825600         43        Al Gore   \n",
       "2  TED2006  1140739200         26    David Pogue   \n",
       "3  TED2006  1140912000         35  Majora Carter   \n",
       "4  TED2006  1140566400         48   Hans Rosling   \n",
       "\n",
       "                                            name  num_speaker  published_date  \\\n",
       "0      Ken Robinson: Do schools kill creativity?            1      1151367060   \n",
       "1           Al Gore: Averting the climate crisis            1      1151367060   \n",
       "2                  David Pogue: Simplicity sells            1      1151367060   \n",
       "3             Majora Carter: Greening the ghetto            1      1151367060   \n",
       "4  Hans Rosling: The best stats you've ever seen            1      1151440680   \n",
       "\n",
       "                                             ratings  \\\n",
       "0  [{'id': 7, 'name': 'Funny', 'count': 19645}, {...   \n",
       "1  [{'id': 7, 'name': 'Funny', 'count': 544}, {'i...   \n",
       "2  [{'id': 7, 'name': 'Funny', 'count': 964}, {'i...   \n",
       "3  [{'id': 3, 'name': 'Courageous', 'count': 760}...   \n",
       "4  [{'id': 9, 'name': 'Ingenious', 'count': 3202}...   \n",
       "\n",
       "                                       related_talks  \\\n",
       "0  [{'id': 865, 'hero': 'https://pe.tedcdn.com/im...   \n",
       "1  [{'id': 243, 'hero': 'https://pe.tedcdn.com/im...   \n",
       "2  [{'id': 1725, 'hero': 'https://pe.tedcdn.com/i...   \n",
       "3  [{'id': 1041, 'hero': 'https://pe.tedcdn.com/i...   \n",
       "4  [{'id': 2056, 'hero': 'https://pe.tedcdn.com/i...   \n",
       "\n",
       "                     speaker_occupation  \\\n",
       "0                       Author/educator   \n",
       "1                      Climate advocate   \n",
       "2                  Technology columnist   \n",
       "3    Activist for environmental justice   \n",
       "4  Global health expert; data visionary   \n",
       "\n",
       "                                                tags  \\\n",
       "0  ['children', 'creativity', 'culture', 'dance',...   \n",
       "1  ['alternative energy', 'cars', 'climate change...   \n",
       "2  ['computers', 'entertainment', 'interface desi...   \n",
       "3  ['MacArthur grant', 'activism', 'business', 'c...   \n",
       "4  ['Africa', 'Asia', 'Google', 'demo', 'economic...   \n",
       "\n",
       "                             title  \\\n",
       "0      Do schools kill creativity?   \n",
       "1      Averting the climate crisis   \n",
       "2                 Simplicity sells   \n",
       "3              Greening the ghetto   \n",
       "4  The best stats you've ever seen   \n",
       "\n",
       "                                                 url     views  talk_id  \\\n",
       "0  https://www.ted.com/talks/ken_robinson_says_sc...  47227110        1   \n",
       "1  https://www.ted.com/talks/al_gore_on_averting_...   3200520        2   \n",
       "2  https://www.ted.com/talks/david_pogue_says_sim...   1636292        3   \n",
       "3  https://www.ted.com/talks/majora_carter_s_tale...   1697550        4   \n",
       "4  https://www.ted.com/talks/hans_rosling_shows_t...  12005869        5   \n",
       "\n",
       "   duration_minutes  \n",
       "0         19.400000  \n",
       "1         16.283333  \n",
       "2         21.433333  \n",
       "3         18.600000  \n",
       "4         19.833333  "
      ]
     },
     "metadata": {},
     "output_type": "display_data"
    }
   ],
   "source": [
    "print(data.shape)\n",
    "display(data.head())"
   ]
  },
  {
   "cell_type": "markdown",
   "metadata": {
    "colab_type": "text",
    "id": "bDAD023h81pb"
   },
   "source": [
    "* 2 **problems** in dataset\n",
    "  * Encoding time as a number\n",
    "  * List of information in string format "
   ]
  },
  {
   "cell_type": "code",
   "execution_count": 9,
   "metadata": {
    "colab": {},
    "colab_type": "code",
    "id": "5Scu-J2I54Bt"
   },
   "outputs": [
    {
     "data": {
      "text/html": [
       "<div>\n",
       "<style scoped>\n",
       "    .dataframe tbody tr th:only-of-type {\n",
       "        vertical-align: middle;\n",
       "    }\n",
       "\n",
       "    .dataframe tbody tr th {\n",
       "        vertical-align: top;\n",
       "    }\n",
       "\n",
       "    .dataframe thead th {\n",
       "        text-align: right;\n",
       "    }\n",
       "</style>\n",
       "<table border=\"1\" class=\"dataframe\">\n",
       "  <thead>\n",
       "    <tr style=\"text-align: right;\">\n",
       "      <th></th>\n",
       "      <th>film_date</th>\n",
       "      <th>published_date</th>\n",
       "      <th>ratings</th>\n",
       "      <th>related_talks</th>\n",
       "      <th>tags</th>\n",
       "    </tr>\n",
       "  </thead>\n",
       "  <tbody>\n",
       "    <tr>\n",
       "      <th>0</th>\n",
       "      <td>1140825600</td>\n",
       "      <td>1151367060</td>\n",
       "      <td>[{'id': 7, 'name': 'Funny', 'count': 19645}, {...</td>\n",
       "      <td>[{'id': 865, 'hero': 'https://pe.tedcdn.com/im...</td>\n",
       "      <td>['children', 'creativity', 'culture', 'dance',...</td>\n",
       "    </tr>\n",
       "    <tr>\n",
       "      <th>1</th>\n",
       "      <td>1140825600</td>\n",
       "      <td>1151367060</td>\n",
       "      <td>[{'id': 7, 'name': 'Funny', 'count': 544}, {'i...</td>\n",
       "      <td>[{'id': 243, 'hero': 'https://pe.tedcdn.com/im...</td>\n",
       "      <td>['alternative energy', 'cars', 'climate change...</td>\n",
       "    </tr>\n",
       "    <tr>\n",
       "      <th>2</th>\n",
       "      <td>1140739200</td>\n",
       "      <td>1151367060</td>\n",
       "      <td>[{'id': 7, 'name': 'Funny', 'count': 964}, {'i...</td>\n",
       "      <td>[{'id': 1725, 'hero': 'https://pe.tedcdn.com/i...</td>\n",
       "      <td>['computers', 'entertainment', 'interface desi...</td>\n",
       "    </tr>\n",
       "    <tr>\n",
       "      <th>3</th>\n",
       "      <td>1140912000</td>\n",
       "      <td>1151367060</td>\n",
       "      <td>[{'id': 3, 'name': 'Courageous', 'count': 760}...</td>\n",
       "      <td>[{'id': 1041, 'hero': 'https://pe.tedcdn.com/i...</td>\n",
       "      <td>['MacArthur grant', 'activism', 'business', 'c...</td>\n",
       "    </tr>\n",
       "    <tr>\n",
       "      <th>4</th>\n",
       "      <td>1140566400</td>\n",
       "      <td>1151440680</td>\n",
       "      <td>[{'id': 9, 'name': 'Ingenious', 'count': 3202}...</td>\n",
       "      <td>[{'id': 2056, 'hero': 'https://pe.tedcdn.com/i...</td>\n",
       "      <td>['Africa', 'Asia', 'Google', 'demo', 'economic...</td>\n",
       "    </tr>\n",
       "  </tbody>\n",
       "</table>\n",
       "</div>"
      ],
      "text/plain": [
       "    film_date  published_date  \\\n",
       "0  1140825600      1151367060   \n",
       "1  1140825600      1151367060   \n",
       "2  1140739200      1151367060   \n",
       "3  1140912000      1151367060   \n",
       "4  1140566400      1151440680   \n",
       "\n",
       "                                             ratings  \\\n",
       "0  [{'id': 7, 'name': 'Funny', 'count': 19645}, {...   \n",
       "1  [{'id': 7, 'name': 'Funny', 'count': 544}, {'i...   \n",
       "2  [{'id': 7, 'name': 'Funny', 'count': 964}, {'i...   \n",
       "3  [{'id': 3, 'name': 'Courageous', 'count': 760}...   \n",
       "4  [{'id': 9, 'name': 'Ingenious', 'count': 3202}...   \n",
       "\n",
       "                                       related_talks  \\\n",
       "0  [{'id': 865, 'hero': 'https://pe.tedcdn.com/im...   \n",
       "1  [{'id': 243, 'hero': 'https://pe.tedcdn.com/im...   \n",
       "2  [{'id': 1725, 'hero': 'https://pe.tedcdn.com/i...   \n",
       "3  [{'id': 1041, 'hero': 'https://pe.tedcdn.com/i...   \n",
       "4  [{'id': 2056, 'hero': 'https://pe.tedcdn.com/i...   \n",
       "\n",
       "                                                tags  \n",
       "0  ['children', 'creativity', 'culture', 'dance',...  \n",
       "1  ['alternative energy', 'cars', 'climate change...  \n",
       "2  ['computers', 'entertainment', 'interface desi...  \n",
       "3  ['MacArthur grant', 'activism', 'business', 'c...  \n",
       "4  ['Africa', 'Asia', 'Google', 'demo', 'economic...  "
      ]
     },
     "execution_count": 9,
     "metadata": {},
     "output_type": "execute_result"
    }
   ],
   "source": [
    "data[['film_date','published_date','ratings','related_talks','tags']].head()"
   ]
  },
  {
   "cell_type": "markdown",
   "metadata": {
    "colab_type": "text",
    "id": "fPfmsN8YixLg"
   },
   "source": [
    "### Encode the Unix timestamp in film_date and published_dat"
   ]
  },
  {
   "cell_type": "code",
   "execution_count": 10,
   "metadata": {
    "colab": {},
    "colab_type": "code",
    "id": "CfgVvk8yjfSm"
   },
   "outputs": [],
   "source": [
    "data['film_date'] = data['film_date'].apply(lambda x: datetime.utcfromtimestamp(x))\n",
    "data['published_date'] = data['published_date'].apply(lambda x: datetime.utcfromtimestamp(x))"
   ]
  },
  {
   "cell_type": "code",
   "execution_count": 11,
   "metadata": {
    "colab": {},
    "colab_type": "code",
    "id": "QpNzyLLN-I8b"
   },
   "outputs": [
    {
     "data": {
      "text/html": [
       "<div>\n",
       "<style scoped>\n",
       "    .dataframe tbody tr th:only-of-type {\n",
       "        vertical-align: middle;\n",
       "    }\n",
       "\n",
       "    .dataframe tbody tr th {\n",
       "        vertical-align: top;\n",
       "    }\n",
       "\n",
       "    .dataframe thead th {\n",
       "        text-align: right;\n",
       "    }\n",
       "</style>\n",
       "<table border=\"1\" class=\"dataframe\">\n",
       "  <thead>\n",
       "    <tr style=\"text-align: right;\">\n",
       "      <th></th>\n",
       "      <th>film_date</th>\n",
       "      <th>published_date</th>\n",
       "    </tr>\n",
       "  </thead>\n",
       "  <tbody>\n",
       "    <tr>\n",
       "      <th>0</th>\n",
       "      <td>2006-02-25</td>\n",
       "      <td>2006-06-27 00:11:00</td>\n",
       "    </tr>\n",
       "    <tr>\n",
       "      <th>1</th>\n",
       "      <td>2006-02-25</td>\n",
       "      <td>2006-06-27 00:11:00</td>\n",
       "    </tr>\n",
       "    <tr>\n",
       "      <th>2</th>\n",
       "      <td>2006-02-24</td>\n",
       "      <td>2006-06-27 00:11:00</td>\n",
       "    </tr>\n",
       "    <tr>\n",
       "      <th>3</th>\n",
       "      <td>2006-02-26</td>\n",
       "      <td>2006-06-27 00:11:00</td>\n",
       "    </tr>\n",
       "    <tr>\n",
       "      <th>4</th>\n",
       "      <td>2006-02-22</td>\n",
       "      <td>2006-06-27 20:38:00</td>\n",
       "    </tr>\n",
       "  </tbody>\n",
       "</table>\n",
       "</div>"
      ],
      "text/plain": [
       "   film_date      published_date\n",
       "0 2006-02-25 2006-06-27 00:11:00\n",
       "1 2006-02-25 2006-06-27 00:11:00\n",
       "2 2006-02-24 2006-06-27 00:11:00\n",
       "3 2006-02-26 2006-06-27 00:11:00\n",
       "4 2006-02-22 2006-06-27 20:38:00"
      ]
     },
     "execution_count": 11,
     "metadata": {},
     "output_type": "execute_result"
    }
   ],
   "source": [
    "data[['film_date','published_date']].head()"
   ]
  },
  {
   "cell_type": "code",
   "execution_count": 12,
   "metadata": {
    "colab": {},
    "colab_type": "code",
    "id": "H2NXvJUq-U7J"
   },
   "outputs": [],
   "source": [
    "data['film_date'] = data['film_date'].dt.strftime('%Y-%m-%d')\n",
    "data['published_date'] = data['published_date'].dt.strftime('%Y-%m-%d')"
   ]
  },
  {
   "cell_type": "code",
   "execution_count": 13,
   "metadata": {
    "colab": {},
    "colab_type": "code",
    "id": "rhO1fO8KlCEh"
   },
   "outputs": [
    {
     "data": {
      "text/html": [
       "<div>\n",
       "<style scoped>\n",
       "    .dataframe tbody tr th:only-of-type {\n",
       "        vertical-align: middle;\n",
       "    }\n",
       "\n",
       "    .dataframe tbody tr th {\n",
       "        vertical-align: top;\n",
       "    }\n",
       "\n",
       "    .dataframe thead th {\n",
       "        text-align: right;\n",
       "    }\n",
       "</style>\n",
       "<table border=\"1\" class=\"dataframe\">\n",
       "  <thead>\n",
       "    <tr style=\"text-align: right;\">\n",
       "      <th></th>\n",
       "      <th>film_date</th>\n",
       "      <th>published_date</th>\n",
       "    </tr>\n",
       "  </thead>\n",
       "  <tbody>\n",
       "    <tr>\n",
       "      <th>0</th>\n",
       "      <td>2006-02-25</td>\n",
       "      <td>2006-06-27</td>\n",
       "    </tr>\n",
       "    <tr>\n",
       "      <th>1</th>\n",
       "      <td>2006-02-25</td>\n",
       "      <td>2006-06-27</td>\n",
       "    </tr>\n",
       "    <tr>\n",
       "      <th>2</th>\n",
       "      <td>2006-02-24</td>\n",
       "      <td>2006-06-27</td>\n",
       "    </tr>\n",
       "    <tr>\n",
       "      <th>3</th>\n",
       "      <td>2006-02-26</td>\n",
       "      <td>2006-06-27</td>\n",
       "    </tr>\n",
       "    <tr>\n",
       "      <th>4</th>\n",
       "      <td>2006-02-22</td>\n",
       "      <td>2006-06-27</td>\n",
       "    </tr>\n",
       "  </tbody>\n",
       "</table>\n",
       "</div>"
      ],
      "text/plain": [
       "    film_date published_date\n",
       "0  2006-02-25     2006-06-27\n",
       "1  2006-02-25     2006-06-27\n",
       "2  2006-02-24     2006-06-27\n",
       "3  2006-02-26     2006-06-27\n",
       "4  2006-02-22     2006-06-27"
      ]
     },
     "execution_count": 13,
     "metadata": {},
     "output_type": "execute_result"
    }
   ],
   "source": [
    "data[['film_date','published_date']].head()"
   ]
  },
  {
   "cell_type": "code",
   "execution_count": 14,
   "metadata": {
    "colab": {},
    "colab_type": "code",
    "id": "PUqvW34mmN7R"
   },
   "outputs": [],
   "source": [
    "data['year'] = data['published_date'].str[:4]"
   ]
  },
  {
   "cell_type": "markdown",
   "metadata": {
    "colab_type": "text",
    "id": "eWkuk-qVlp91"
   },
   "source": [
    "### Seperate 3 tables"
   ]
  },
  {
   "cell_type": "markdown",
   "metadata": {
    "colab_type": "text",
    "id": "cnbWbvQXAeJp"
   },
   "source": [
    "#### Ratings Table"
   ]
  },
  {
   "cell_type": "markdown",
   "metadata": {
    "colab_type": "text",
    "id": "3YLFZNbrE8uF"
   },
   "source": [
    "#### Get list of key words"
   ]
  },
  {
   "cell_type": "code",
   "execution_count": 15,
   "metadata": {
    "colab": {},
    "colab_type": "code",
    "id": "VfptZnoSRuLu"
   },
   "outputs": [
    {
     "data": {
      "text/plain": [
       "\"[{'id': 7, 'name': 'Funny', 'count': 19645}, {'id': 1, 'name': 'Beautiful', 'count': 4573}, {'id': 9, 'name': 'Ingenious', 'count': 6073}, {'id': 3, 'name': 'Courageous', 'count': 3253}, {'id': 11, 'name': 'Longwinded', 'count': 387}, {'id': 2, 'name': 'Confusing', 'count': 242}, {'id': 8, 'name': 'Informative', 'count': 7346}, {'id': 22, 'name': 'Fascinating', 'count': 10581}, {'id': 21, 'name': 'Unconvincing', 'count': 300}, {'id': 24, 'name': 'Persuasive', 'count': 10704}, {'id': 23, 'name': 'Jaw-dropping', 'count': 4439}, {'id': 25, 'name': 'OK', 'count': 1174}, {'id': 26, 'name': 'Obnoxious', 'count': 209}, {'id': 10, 'name': 'Inspiring', 'count': 24924}]\""
      ]
     },
     "execution_count": 15,
     "metadata": {},
     "output_type": "execute_result"
    }
   ],
   "source": [
    "data['ratings'][0]"
   ]
  },
  {
   "cell_type": "markdown",
   "metadata": {
    "colab_type": "text",
    "id": "k1Wi82W9RyZg"
   },
   "source": [
    "As you see , *ratings* column is a list of dictionary putted in a string . \n",
    "**Our taks is try to get value of key word \"name\"**"
   ]
  },
  {
   "cell_type": "code",
   "execution_count": 16,
   "metadata": {
    "colab": {},
    "colab_type": "code",
    "id": "FqeTJNWhqt8W"
   },
   "outputs": [
    {
     "name": "stdout",
     "output_type": "stream",
     "text": [
      "{'Obnoxious', 'Ingenious', 'Confusing', 'OK', 'Persuasive', 'Courageous', 'Funny', 'Jaw-dropping', 'Longwinded', 'Inspiring', 'Beautiful', 'Informative', 'Unconvincing', 'Fascinating'}\n"
     ]
    }
   ],
   "source": [
    "rating_kw = set()\n",
    "for i in range(50): # range can change to check whether words are same in every rows\n",
    "    ratings = eval(data['ratings'][i]) # use eval function to get list\n",
    "    for rating in ratings: # access to list element (dicts)\n",
    "        rating_kw.add(rating['name']) # use ADD method of set data type to add value of keyword 'name'\n",
    "print(rating_kw)"
   ]
  },
  {
   "cell_type": "markdown",
   "metadata": {
    "colab_type": "text",
    "id": "RtXZVq5ObAaY"
   },
   "source": [
    "Next , we create new DataFrame which columns name are key words , rows contain their apperance times . Especially the last column is talk id\n",
    "\n"
   ]
  },
  {
   "cell_type": "code",
   "execution_count": 17,
   "metadata": {
    "colab": {},
    "colab_type": "code",
    "id": "QMXzgSne_f1O"
   },
   "outputs": [],
   "source": [
    "columns = list(rating_kw).append('talk_id')\n",
    "\n",
    "df_ratings = pd.DataFrame(columns = columns) # create a new DataFrame which column name is keyword name and talk id\n",
    "for i in range(2550):\n",
    "    ratings = eval(data['ratings'][i]) # try to get above list\n",
    "    temp = {} # produce an empty dict to prepare for adding to our DataFrame , which has 14 word and 1 talk id as key words\n",
    "    for rating_dict in ratings:\n",
    "        temp[rating_dict['name']] = rating_dict['count']\n",
    "    temp['talk_id'] = i + 1\n",
    "    df_ratings = df_ratings.append(temp, ignore_index=True) # use APPEND method of DataFrame to add new rows"
   ]
  },
  {
   "cell_type": "code",
   "execution_count": 18,
   "metadata": {
    "colab": {
     "base_uri": "https://localhost:8080/",
     "height": 167
    },
    "colab_type": "code",
    "executionInfo": {
     "elapsed": 946,
     "status": "error",
     "timestamp": 1576164180168,
     "user": {
      "displayName": "Dinh Nguyễn",
      "photoUrl": "",
      "userId": "10515043973440487618"
     },
     "user_tz": -420
    },
    "id": "OO5dxHfNBBOq",
    "outputId": "5f20ae60-50f2-487c-d631-67076ab8c828"
   },
   "outputs": [
    {
     "name": "stdout",
     "output_type": "stream",
     "text": [
      "<class 'pandas.core.frame.DataFrame'>\n",
      "RangeIndex: 2550 entries, 0 to 2549\n",
      "Data columns (total 15 columns):\n",
      "Beautiful       2550 non-null float64\n",
      "Confusing       2550 non-null float64\n",
      "Courageous      2550 non-null float64\n",
      "Fascinating     2550 non-null float64\n",
      "Funny           2550 non-null float64\n",
      "Informative     2550 non-null float64\n",
      "Ingenious       2550 non-null float64\n",
      "Inspiring       2550 non-null float64\n",
      "Jaw-dropping    2550 non-null float64\n",
      "Longwinded      2550 non-null float64\n",
      "OK              2550 non-null float64\n",
      "Obnoxious       2550 non-null float64\n",
      "Persuasive      2550 non-null float64\n",
      "Unconvincing    2550 non-null float64\n",
      "talk_id         2550 non-null float64\n",
      "dtypes: float64(15)\n",
      "memory usage: 298.9 KB\n"
     ]
    }
   ],
   "source": [
    "df_ratings.info()"
   ]
  },
  {
   "cell_type": "markdown",
   "metadata": {
    "colab_type": "text",
    "id": "va3UXa4kfBvz"
   },
   "source": [
    "*Let's see what we have struggled !*"
   ]
  },
  {
   "cell_type": "code",
   "execution_count": 19,
   "metadata": {
    "colab": {},
    "colab_type": "code",
    "id": "Xt9iY1aFApGf"
   },
   "outputs": [
    {
     "data": {
      "text/html": [
       "<div>\n",
       "<style scoped>\n",
       "    .dataframe tbody tr th:only-of-type {\n",
       "        vertical-align: middle;\n",
       "    }\n",
       "\n",
       "    .dataframe tbody tr th {\n",
       "        vertical-align: top;\n",
       "    }\n",
       "\n",
       "    .dataframe thead th {\n",
       "        text-align: right;\n",
       "    }\n",
       "</style>\n",
       "<table border=\"1\" class=\"dataframe\">\n",
       "  <thead>\n",
       "    <tr style=\"text-align: right;\">\n",
       "      <th></th>\n",
       "      <th>Beautiful</th>\n",
       "      <th>Confusing</th>\n",
       "      <th>Courageous</th>\n",
       "      <th>Fascinating</th>\n",
       "      <th>Funny</th>\n",
       "      <th>Informative</th>\n",
       "      <th>Ingenious</th>\n",
       "      <th>Inspiring</th>\n",
       "      <th>Jaw-dropping</th>\n",
       "      <th>Longwinded</th>\n",
       "      <th>OK</th>\n",
       "      <th>Obnoxious</th>\n",
       "      <th>Persuasive</th>\n",
       "      <th>Unconvincing</th>\n",
       "      <th>talk_id</th>\n",
       "    </tr>\n",
       "  </thead>\n",
       "  <tbody>\n",
       "    <tr>\n",
       "      <th>0</th>\n",
       "      <td>4573.0</td>\n",
       "      <td>242.0</td>\n",
       "      <td>3253.0</td>\n",
       "      <td>10581.0</td>\n",
       "      <td>19645.0</td>\n",
       "      <td>7346.0</td>\n",
       "      <td>6073.0</td>\n",
       "      <td>24924.0</td>\n",
       "      <td>4439.0</td>\n",
       "      <td>387.0</td>\n",
       "      <td>1174.0</td>\n",
       "      <td>209.0</td>\n",
       "      <td>10704.0</td>\n",
       "      <td>300.0</td>\n",
       "      <td>1.0</td>\n",
       "    </tr>\n",
       "    <tr>\n",
       "      <th>1</th>\n",
       "      <td>58.0</td>\n",
       "      <td>62.0</td>\n",
       "      <td>139.0</td>\n",
       "      <td>132.0</td>\n",
       "      <td>544.0</td>\n",
       "      <td>443.0</td>\n",
       "      <td>56.0</td>\n",
       "      <td>413.0</td>\n",
       "      <td>116.0</td>\n",
       "      <td>113.0</td>\n",
       "      <td>203.0</td>\n",
       "      <td>131.0</td>\n",
       "      <td>268.0</td>\n",
       "      <td>258.0</td>\n",
       "      <td>2.0</td>\n",
       "    </tr>\n",
       "    <tr>\n",
       "      <th>2</th>\n",
       "      <td>60.0</td>\n",
       "      <td>27.0</td>\n",
       "      <td>45.0</td>\n",
       "      <td>166.0</td>\n",
       "      <td>964.0</td>\n",
       "      <td>395.0</td>\n",
       "      <td>183.0</td>\n",
       "      <td>230.0</td>\n",
       "      <td>54.0</td>\n",
       "      <td>78.0</td>\n",
       "      <td>146.0</td>\n",
       "      <td>142.0</td>\n",
       "      <td>230.0</td>\n",
       "      <td>104.0</td>\n",
       "      <td>3.0</td>\n",
       "    </tr>\n",
       "    <tr>\n",
       "      <th>3</th>\n",
       "      <td>291.0</td>\n",
       "      <td>32.0</td>\n",
       "      <td>760.0</td>\n",
       "      <td>132.0</td>\n",
       "      <td>59.0</td>\n",
       "      <td>380.0</td>\n",
       "      <td>105.0</td>\n",
       "      <td>1070.0</td>\n",
       "      <td>230.0</td>\n",
       "      <td>53.0</td>\n",
       "      <td>85.0</td>\n",
       "      <td>35.0</td>\n",
       "      <td>460.0</td>\n",
       "      <td>36.0</td>\n",
       "      <td>4.0</td>\n",
       "    </tr>\n",
       "    <tr>\n",
       "      <th>4</th>\n",
       "      <td>942.0</td>\n",
       "      <td>72.0</td>\n",
       "      <td>318.0</td>\n",
       "      <td>4606.0</td>\n",
       "      <td>1390.0</td>\n",
       "      <td>5433.0</td>\n",
       "      <td>3202.0</td>\n",
       "      <td>2893.0</td>\n",
       "      <td>3736.0</td>\n",
       "      <td>110.0</td>\n",
       "      <td>248.0</td>\n",
       "      <td>61.0</td>\n",
       "      <td>2542.0</td>\n",
       "      <td>67.0</td>\n",
       "      <td>5.0</td>\n",
       "    </tr>\n",
       "  </tbody>\n",
       "</table>\n",
       "</div>"
      ],
      "text/plain": [
       "   Beautiful  Confusing  Courageous  Fascinating    Funny  Informative  \\\n",
       "0     4573.0      242.0      3253.0      10581.0  19645.0       7346.0   \n",
       "1       58.0       62.0       139.0        132.0    544.0        443.0   \n",
       "2       60.0       27.0        45.0        166.0    964.0        395.0   \n",
       "3      291.0       32.0       760.0        132.0     59.0        380.0   \n",
       "4      942.0       72.0       318.0       4606.0   1390.0       5433.0   \n",
       "\n",
       "   Ingenious  Inspiring  Jaw-dropping  Longwinded      OK  Obnoxious  \\\n",
       "0     6073.0    24924.0        4439.0       387.0  1174.0      209.0   \n",
       "1       56.0      413.0         116.0       113.0   203.0      131.0   \n",
       "2      183.0      230.0          54.0        78.0   146.0      142.0   \n",
       "3      105.0     1070.0         230.0        53.0    85.0       35.0   \n",
       "4     3202.0     2893.0        3736.0       110.0   248.0       61.0   \n",
       "\n",
       "   Persuasive  Unconvincing  talk_id  \n",
       "0     10704.0         300.0      1.0  \n",
       "1       268.0         258.0      2.0  \n",
       "2       230.0         104.0      3.0  \n",
       "3       460.0          36.0      4.0  \n",
       "4      2542.0          67.0      5.0  "
      ]
     },
     "execution_count": 19,
     "metadata": {},
     "output_type": "execute_result"
    }
   ],
   "source": [
    "df_ratings.head()"
   ]
  },
  {
   "cell_type": "code",
   "execution_count": 20,
   "metadata": {
    "colab": {},
    "colab_type": "code",
    "id": "ngST3sqEiSMk"
   },
   "outputs": [
    {
     "data": {
      "text/html": [
       "<div>\n",
       "<style scoped>\n",
       "    .dataframe tbody tr th:only-of-type {\n",
       "        vertical-align: middle;\n",
       "    }\n",
       "\n",
       "    .dataframe tbody tr th {\n",
       "        vertical-align: top;\n",
       "    }\n",
       "\n",
       "    .dataframe thead th {\n",
       "        text-align: right;\n",
       "    }\n",
       "</style>\n",
       "<table border=\"1\" class=\"dataframe\">\n",
       "  <thead>\n",
       "    <tr style=\"text-align: right;\">\n",
       "      <th></th>\n",
       "      <th>talk_id</th>\n",
       "      <th>keywords</th>\n",
       "      <th>votes</th>\n",
       "    </tr>\n",
       "  </thead>\n",
       "  <tbody>\n",
       "    <tr>\n",
       "      <th>0</th>\n",
       "      <td>1.0</td>\n",
       "      <td>Beautiful</td>\n",
       "      <td>4573.0</td>\n",
       "    </tr>\n",
       "    <tr>\n",
       "      <th>1</th>\n",
       "      <td>2.0</td>\n",
       "      <td>Beautiful</td>\n",
       "      <td>58.0</td>\n",
       "    </tr>\n",
       "    <tr>\n",
       "      <th>2</th>\n",
       "      <td>3.0</td>\n",
       "      <td>Beautiful</td>\n",
       "      <td>60.0</td>\n",
       "    </tr>\n",
       "    <tr>\n",
       "      <th>3</th>\n",
       "      <td>4.0</td>\n",
       "      <td>Beautiful</td>\n",
       "      <td>291.0</td>\n",
       "    </tr>\n",
       "    <tr>\n",
       "      <th>4</th>\n",
       "      <td>5.0</td>\n",
       "      <td>Beautiful</td>\n",
       "      <td>942.0</td>\n",
       "    </tr>\n",
       "  </tbody>\n",
       "</table>\n",
       "</div>"
      ],
      "text/plain": [
       "   talk_id   keywords   votes\n",
       "0      1.0  Beautiful  4573.0\n",
       "1      2.0  Beautiful    58.0\n",
       "2      3.0  Beautiful    60.0\n",
       "3      4.0  Beautiful   291.0\n",
       "4      5.0  Beautiful   942.0"
      ]
     },
     "execution_count": 20,
     "metadata": {},
     "output_type": "execute_result"
    }
   ],
   "source": [
    "melt_ratings = pd.melt(df_ratings, id_vars='talk_id', var_name='keywords', value_name = 'votes')\n",
    "melt_ratings.head()"
   ]
  },
  {
   "cell_type": "markdown",
   "metadata": {
    "colab_type": "text",
    "id": "mH18JSRsBPdf"
   },
   "source": [
    "Save to another csv for analysis"
   ]
  },
  {
   "cell_type": "code",
   "execution_count": 21,
   "metadata": {
    "colab": {},
    "colab_type": "code",
    "id": "T9OEZMXcBOcL"
   },
   "outputs": [],
   "source": [
    "df_ratings.to_csv('ratings.csv')"
   ]
  },
  {
   "cell_type": "markdown",
   "metadata": {
    "colab_type": "text",
    "id": "krZwDTcAAzPz"
   },
   "source": [
    "#### Related talks"
   ]
  },
  {
   "cell_type": "markdown",
   "metadata": {
    "colab_type": "text",
    "id": "AZeO_POnU4h1"
   },
   "source": [
    "*Again, data type of related_talks is list of string. So we need to use eval_function again*"
   ]
  },
  {
   "cell_type": "code",
   "execution_count": 22,
   "metadata": {
    "colab": {},
    "colab_type": "code",
    "id": "tVzmV3J_ghe9"
   },
   "outputs": [
    {
     "data": {
      "text/plain": [
       "'[{\\'id\\': 865, \\'hero\\': \\'https://pe.tedcdn.com/images/ted/172559_800x600.jpg\\', \\'speaker\\': \\'Ken Robinson\\', \\'title\\': \\'Bring on the learning revolution!\\', \\'duration\\': 1008, \\'slug\\': \\'sir_ken_robinson_bring_on_the_revolution\\', \\'viewed_count\\': 7266103}, {\\'id\\': 1738, \\'hero\\': \\'https://pe.tedcdn.com/images/ted/de98b161ad1434910ff4b56c89de71af04b8b873_1600x1200.jpg\\', \\'speaker\\': \\'Ken Robinson\\', \\'title\\': \"How to escape education\\'s death valley\", \\'duration\\': 1151, \\'slug\\': \\'ken_robinson_how_to_escape_education_s_death_valley\\', \\'viewed_count\\': 6657572}, {\\'id\\': 2276, \\'hero\\': \\'https://pe.tedcdn.com/images/ted/3821f3728e0b755c7b9aea2e69cc093eca41abe1_2880x1620.jpg\\', \\'speaker\\': \\'Linda Cliatt-Wayman\\', \\'title\\': \\'How to fix a broken school? Lead fearlessly, love hard\\', \\'duration\\': 1027, \\'slug\\': \\'linda_cliatt_wayman_how_to_fix_a_broken_school_lead_fearlessly_love_hard\\', \\'viewed_count\\': 1617101}, {\\'id\\': 892, \\'hero\\': \\'https://pe.tedcdn.com/images/ted/e79958940573cc610ccb583619a54866c41ef303_2880x1620.jpg\\', \\'speaker\\': \\'Charles Leadbeater\\', \\'title\\': \\'Education innovation in the slums\\', \\'duration\\': 1138, \\'slug\\': \\'charles_leadbeater_on_education\\', \\'viewed_count\\': 772296}, {\\'id\\': 1232, \\'hero\\': \\'https://pe.tedcdn.com/images/ted/0e3e4e92d5ee8ae0e43962d447d3f790b31099b8_800x600.jpg\\', \\'speaker\\': \\'Geoff Mulgan\\', \\'title\\': \\'A short intro to the Studio School\\', \\'duration\\': 376, \\'slug\\': \\'geoff_mulgan_a_short_intro_to_the_studio_school\\', \\'viewed_count\\': 667971}, {\\'id\\': 2616, \\'hero\\': \\'https://pe.tedcdn.com/images/ted/71cde5a6fa6c717488fb55eff9eef939a9241761_2880x1620.jpg\\', \\'speaker\\': \\'Kandice Sumner\\', \\'title\\': \"How America\\'s public schools keep kids in poverty\", \\'duration\\': 830, \\'slug\\': \\'kandice_sumner_how_america_s_public_schools_keep_kids_in_poverty\\', \\'viewed_count\\': 1181333}]'"
      ]
     },
     "execution_count": 22,
     "metadata": {},
     "output_type": "execute_result"
    }
   ],
   "source": [
    "data['related_talks'][0]"
   ]
  },
  {
   "cell_type": "markdown",
   "metadata": {
    "colab_type": "text",
    "id": "bZf5035mVX58"
   },
   "source": [
    "*Inside string we have a list of about 6 dictionaries*"
   ]
  },
  {
   "cell_type": "code",
   "execution_count": 23,
   "metadata": {
    "colab": {},
    "colab_type": "code",
    "id": "1xcALCo3ipAs"
   },
   "outputs": [
    {
     "data": {
      "text/plain": [
       "{'id': 865,\n",
       " 'hero': 'https://pe.tedcdn.com/images/ted/172559_800x600.jpg',\n",
       " 'speaker': 'Ken Robinson',\n",
       " 'title': 'Bring on the learning revolution!',\n",
       " 'duration': 1008,\n",
       " 'slug': 'sir_ken_robinson_bring_on_the_revolution',\n",
       " 'viewed_count': 7266103}"
      ]
     },
     "execution_count": 23,
     "metadata": {},
     "output_type": "execute_result"
    }
   ],
   "source": [
    "eval(data['related_talks'][0])[0] # get rid of square bracket"
   ]
  },
  {
   "cell_type": "markdown",
   "metadata": {
    "colab_type": "text",
    "id": "SqhNTTorV8Y0"
   },
   "source": [
    "*Goal is that we create a new data frame called related talk.*\n",
    "*So firstly , we need to get column names*"
   ]
  },
  {
   "cell_type": "code",
   "execution_count": 24,
   "metadata": {
    "colab": {},
    "colab_type": "code",
    "id": "9QpaZxRVi-zq"
   },
   "outputs": [
    {
     "data": {
      "text/plain": [
       "['id', 'hero', 'speaker', 'title', 'duration', 'slug', 'viewed_count']"
      ]
     },
     "execution_count": 24,
     "metadata": {},
     "output_type": "execute_result"
    }
   ],
   "source": [
    "keys_dict = eval(data['related_talks'][0])[0]\n",
    "columns = [*keys_dict] #return list of key words\n",
    "columns"
   ]
  },
  {
   "cell_type": "markdown",
   "metadata": {
    "colab_type": "text",
    "id": "iqJh9lJJW1Yh"
   },
   "source": [
    "*hero column is maybe not useful. While talk id column is extremly benificial so we remove hero key word and append talk_id key word into our list*"
   ]
  },
  {
   "cell_type": "code",
   "execution_count": 25,
   "metadata": {
    "colab": {},
    "colab_type": "code",
    "id": "cbT8VclaA3kp"
   },
   "outputs": [
    {
     "data": {
      "text/html": [
       "<div>\n",
       "<style scoped>\n",
       "    .dataframe tbody tr th:only-of-type {\n",
       "        vertical-align: middle;\n",
       "    }\n",
       "\n",
       "    .dataframe tbody tr th {\n",
       "        vertical-align: top;\n",
       "    }\n",
       "\n",
       "    .dataframe thead th {\n",
       "        text-align: right;\n",
       "    }\n",
       "</style>\n",
       "<table border=\"1\" class=\"dataframe\">\n",
       "  <thead>\n",
       "    <tr style=\"text-align: right;\">\n",
       "      <th></th>\n",
       "      <th>id</th>\n",
       "      <th>speaker</th>\n",
       "      <th>title</th>\n",
       "      <th>duration</th>\n",
       "      <th>slug</th>\n",
       "      <th>viewed_count</th>\n",
       "      <th>talk_id</th>\n",
       "    </tr>\n",
       "  </thead>\n",
       "  <tbody>\n",
       "  </tbody>\n",
       "</table>\n",
       "</div>"
      ],
      "text/plain": [
       "Empty DataFrame\n",
       "Columns: [id, speaker, title, duration, slug, viewed_count, talk_id]\n",
       "Index: []"
      ]
     },
     "execution_count": 25,
     "metadata": {},
     "output_type": "execute_result"
    }
   ],
   "source": [
    "columns.remove('hero')\n",
    "columns.append('talk_id')\n",
    "\n",
    "### Create a dataframe for related talks\n",
    "related_talk_df = pd.DataFrame(columns= columns)\n",
    "related_talk_df"
   ]
  },
  {
   "cell_type": "markdown",
   "metadata": {
    "colab_type": "text",
    "id": "DcTyrwgaahUT"
   },
   "source": [
    "*Now we walk through line by line in related_talks column. Our goal here is in a loop we build a dictionary to append to above data frame. Remeber that after take eval ,  dictionaries are still left*"
   ]
  },
  {
   "cell_type": "code",
   "execution_count": 26,
   "metadata": {
    "colab": {},
    "colab_type": "code",
    "id": "HZO5uli_Bx-E"
   },
   "outputs": [],
   "source": [
    "for i in range(2550):\n",
    "    row_list = eval(data['related_talks'][i])\n",
    "    temp = {}\n",
    "    for list_ in row_list:\n",
    "        temp['id'] = list_['id']\n",
    "        temp['speaker'] = list_['speaker']\n",
    "        temp['title'] = list_['title']\n",
    "        temp['duration'] = list_['duration']\n",
    "        temp['slug']= list_['slug']\n",
    "        temp['viewed_count']= list_['viewed_count']\n",
    "        temp['talk_id']= i + 1\n",
    "        related_talk_df = related_talk_df.append(temp, ignore_index=True)"
   ]
  },
  {
   "cell_type": "markdown",
   "metadata": {
    "colab_type": "text",
    "id": "78cRuWJLY4n4"
   },
   "source": [
    "*Let's have a quick see !*"
   ]
  },
  {
   "cell_type": "code",
   "execution_count": 27,
   "metadata": {
    "colab": {},
    "colab_type": "code",
    "id": "gcwKRsMrEcM7"
   },
   "outputs": [
    {
     "name": "stdout",
     "output_type": "stream",
     "text": [
      "<class 'pandas.core.frame.DataFrame'>\n",
      "RangeIndex: 15010 entries, 0 to 15009\n",
      "Data columns (total 7 columns):\n",
      "id              15010 non-null object\n",
      "speaker         15010 non-null object\n",
      "title           15010 non-null object\n",
      "duration        15010 non-null object\n",
      "slug            15010 non-null object\n",
      "viewed_count    15010 non-null object\n",
      "talk_id         15010 non-null object\n",
      "dtypes: object(7)\n",
      "memory usage: 820.9+ KB\n"
     ]
    }
   ],
   "source": [
    "related_talk_df.info()"
   ]
  },
  {
   "cell_type": "markdown",
   "metadata": {
    "colab_type": "text",
    "id": "ytYeIUVLYYmo"
   },
   "source": [
    "*As you can see, data type of duration , view_count and talk_id columns is not numerical. So we turn them into int data type*"
   ]
  },
  {
   "cell_type": "code",
   "execution_count": 28,
   "metadata": {
    "colab": {},
    "colab_type": "code",
    "id": "57WFDS2CEf2S"
   },
   "outputs": [],
   "source": [
    "related_talk_df['duration'] = related_talk_df['duration'].astype('int')\n",
    "related_talk_df['viewed_count'] = related_talk_df['viewed_count'].astype('int')\n",
    "related_talk_df['talk_id'] = related_talk_df['talk_id'].astype('int')"
   ]
  },
  {
   "cell_type": "markdown",
   "metadata": {
    "colab_type": "text",
    "id": "QUQBM0CIYuA1"
   },
   "source": [
    "*And now we can take a look at our new data frame*"
   ]
  },
  {
   "cell_type": "code",
   "execution_count": 29,
   "metadata": {
    "colab": {},
    "colab_type": "code",
    "id": "zVkExS_3EIqr"
   },
   "outputs": [
    {
     "name": "stdout",
     "output_type": "stream",
     "text": [
      "(15010, 7)\n"
     ]
    },
    {
     "data": {
      "text/html": [
       "<div>\n",
       "<style scoped>\n",
       "    .dataframe tbody tr th:only-of-type {\n",
       "        vertical-align: middle;\n",
       "    }\n",
       "\n",
       "    .dataframe tbody tr th {\n",
       "        vertical-align: top;\n",
       "    }\n",
       "\n",
       "    .dataframe thead th {\n",
       "        text-align: right;\n",
       "    }\n",
       "</style>\n",
       "<table border=\"1\" class=\"dataframe\">\n",
       "  <thead>\n",
       "    <tr style=\"text-align: right;\">\n",
       "      <th></th>\n",
       "      <th>id</th>\n",
       "      <th>speaker</th>\n",
       "      <th>title</th>\n",
       "      <th>duration</th>\n",
       "      <th>slug</th>\n",
       "      <th>viewed_count</th>\n",
       "      <th>talk_id</th>\n",
       "    </tr>\n",
       "  </thead>\n",
       "  <tbody>\n",
       "    <tr>\n",
       "      <th>0</th>\n",
       "      <td>865</td>\n",
       "      <td>Ken Robinson</td>\n",
       "      <td>Bring on the learning revolution!</td>\n",
       "      <td>1008</td>\n",
       "      <td>sir_ken_robinson_bring_on_the_revolution</td>\n",
       "      <td>7266103</td>\n",
       "      <td>1</td>\n",
       "    </tr>\n",
       "    <tr>\n",
       "      <th>1</th>\n",
       "      <td>1738</td>\n",
       "      <td>Ken Robinson</td>\n",
       "      <td>How to escape education's death valley</td>\n",
       "      <td>1151</td>\n",
       "      <td>ken_robinson_how_to_escape_education_s_death_v...</td>\n",
       "      <td>6657572</td>\n",
       "      <td>1</td>\n",
       "    </tr>\n",
       "    <tr>\n",
       "      <th>2</th>\n",
       "      <td>2276</td>\n",
       "      <td>Linda Cliatt-Wayman</td>\n",
       "      <td>How to fix a broken school? Lead fearlessly, l...</td>\n",
       "      <td>1027</td>\n",
       "      <td>linda_cliatt_wayman_how_to_fix_a_broken_school...</td>\n",
       "      <td>1617101</td>\n",
       "      <td>1</td>\n",
       "    </tr>\n",
       "    <tr>\n",
       "      <th>3</th>\n",
       "      <td>892</td>\n",
       "      <td>Charles Leadbeater</td>\n",
       "      <td>Education innovation in the slums</td>\n",
       "      <td>1138</td>\n",
       "      <td>charles_leadbeater_on_education</td>\n",
       "      <td>772296</td>\n",
       "      <td>1</td>\n",
       "    </tr>\n",
       "    <tr>\n",
       "      <th>4</th>\n",
       "      <td>1232</td>\n",
       "      <td>Geoff Mulgan</td>\n",
       "      <td>A short intro to the Studio School</td>\n",
       "      <td>376</td>\n",
       "      <td>geoff_mulgan_a_short_intro_to_the_studio_school</td>\n",
       "      <td>667971</td>\n",
       "      <td>1</td>\n",
       "    </tr>\n",
       "  </tbody>\n",
       "</table>\n",
       "</div>"
      ],
      "text/plain": [
       "     id              speaker  \\\n",
       "0   865         Ken Robinson   \n",
       "1  1738         Ken Robinson   \n",
       "2  2276  Linda Cliatt-Wayman   \n",
       "3   892   Charles Leadbeater   \n",
       "4  1232         Geoff Mulgan   \n",
       "\n",
       "                                               title  duration  \\\n",
       "0                  Bring on the learning revolution!      1008   \n",
       "1             How to escape education's death valley      1151   \n",
       "2  How to fix a broken school? Lead fearlessly, l...      1027   \n",
       "3                  Education innovation in the slums      1138   \n",
       "4                 A short intro to the Studio School       376   \n",
       "\n",
       "                                                slug  viewed_count  talk_id  \n",
       "0           sir_ken_robinson_bring_on_the_revolution       7266103        1  \n",
       "1  ken_robinson_how_to_escape_education_s_death_v...       6657572        1  \n",
       "2  linda_cliatt_wayman_how_to_fix_a_broken_school...       1617101        1  \n",
       "3                    charles_leadbeater_on_education        772296        1  \n",
       "4    geoff_mulgan_a_short_intro_to_the_studio_school        667971        1  "
      ]
     },
     "execution_count": 29,
     "metadata": {},
     "output_type": "execute_result"
    }
   ],
   "source": [
    "print(related_talk_df.shape)\n",
    "related_talk_df.head()"
   ]
  },
  {
   "cell_type": "markdown",
   "metadata": {
    "colab_type": "text",
    "id": "nduvN6D7EU1_"
   },
   "source": [
    "#### Tags"
   ]
  },
  {
   "cell_type": "code",
   "execution_count": 30,
   "metadata": {
    "colab": {},
    "colab_type": "code",
    "id": "scfzwvUVclVR"
   },
   "outputs": [
    {
     "data": {
      "text/plain": [
       "\"['children', 'creativity', 'culture', 'dance', 'education', 'parenting', 'teaching']\""
      ]
     },
     "execution_count": 30,
     "metadata": {},
     "output_type": "execute_result"
    }
   ],
   "source": [
    "data['tags'][0]"
   ]
  },
  {
   "cell_type": "markdown",
   "metadata": {
    "colab_type": "text",
    "id": "OU9ciCMZdEC8"
   },
   "source": [
    "*See tags column may be the simplest. We also need eval_function to remove double quote.However let's release a new frame with 2 columns called talk_id and tags*"
   ]
  },
  {
   "cell_type": "code",
   "execution_count": 31,
   "metadata": {
    "colab": {},
    "colab_type": "code",
    "id": "MhF-UI44ddH6"
   },
   "outputs": [],
   "source": [
    "tags_df = pd.DataFrame(columns=['talk_id', 'tags'])"
   ]
  },
  {
   "cell_type": "markdown",
   "metadata": {
    "colab_type": "text",
    "id": "WIBQElVrdwMi"
   },
   "source": [
    "*To add into frame, we just go through every line and add every dictionary with keyword is talk id , value is tag*"
   ]
  },
  {
   "cell_type": "code",
   "execution_count": 32,
   "metadata": {
    "colab": {},
    "colab_type": "code",
    "id": "1vAyH-UEEz5R"
   },
   "outputs": [],
   "source": [
    "for i in range(2550):\n",
    "    list_tags = eval(data['tags'][i])\n",
    "    for tag in list_tags: \n",
    "        tags_df = tags_df.append({'talk_id': i +1, 'tags': tag}, ignore_index = True)"
   ]
  },
  {
   "cell_type": "markdown",
   "metadata": {
    "colab_type": "text",
    "id": "TbzK2IV4eF4d"
   },
   "source": [
    "*Now take a look at what we have done !*"
   ]
  },
  {
   "cell_type": "code",
   "execution_count": 33,
   "metadata": {
    "colab": {},
    "colab_type": "code",
    "id": "ECdUmgQIE31a"
   },
   "outputs": [
    {
     "name": "stdout",
     "output_type": "stream",
     "text": [
      "(19154, 2)\n"
     ]
    },
    {
     "data": {
      "text/html": [
       "<div>\n",
       "<style scoped>\n",
       "    .dataframe tbody tr th:only-of-type {\n",
       "        vertical-align: middle;\n",
       "    }\n",
       "\n",
       "    .dataframe tbody tr th {\n",
       "        vertical-align: top;\n",
       "    }\n",
       "\n",
       "    .dataframe thead th {\n",
       "        text-align: right;\n",
       "    }\n",
       "</style>\n",
       "<table border=\"1\" class=\"dataframe\">\n",
       "  <thead>\n",
       "    <tr style=\"text-align: right;\">\n",
       "      <th></th>\n",
       "      <th>talk_id</th>\n",
       "      <th>tags</th>\n",
       "    </tr>\n",
       "  </thead>\n",
       "  <tbody>\n",
       "    <tr>\n",
       "      <th>0</th>\n",
       "      <td>1</td>\n",
       "      <td>children</td>\n",
       "    </tr>\n",
       "    <tr>\n",
       "      <th>1</th>\n",
       "      <td>1</td>\n",
       "      <td>creativity</td>\n",
       "    </tr>\n",
       "    <tr>\n",
       "      <th>2</th>\n",
       "      <td>1</td>\n",
       "      <td>culture</td>\n",
       "    </tr>\n",
       "    <tr>\n",
       "      <th>3</th>\n",
       "      <td>1</td>\n",
       "      <td>dance</td>\n",
       "    </tr>\n",
       "    <tr>\n",
       "      <th>4</th>\n",
       "      <td>1</td>\n",
       "      <td>education</td>\n",
       "    </tr>\n",
       "    <tr>\n",
       "      <th>5</th>\n",
       "      <td>1</td>\n",
       "      <td>parenting</td>\n",
       "    </tr>\n",
       "    <tr>\n",
       "      <th>6</th>\n",
       "      <td>1</td>\n",
       "      <td>teaching</td>\n",
       "    </tr>\n",
       "    <tr>\n",
       "      <th>7</th>\n",
       "      <td>2</td>\n",
       "      <td>alternative energy</td>\n",
       "    </tr>\n",
       "    <tr>\n",
       "      <th>8</th>\n",
       "      <td>2</td>\n",
       "      <td>cars</td>\n",
       "    </tr>\n",
       "    <tr>\n",
       "      <th>9</th>\n",
       "      <td>2</td>\n",
       "      <td>climate change</td>\n",
       "    </tr>\n",
       "  </tbody>\n",
       "</table>\n",
       "</div>"
      ],
      "text/plain": [
       "  talk_id                tags\n",
       "0       1            children\n",
       "1       1          creativity\n",
       "2       1             culture\n",
       "3       1               dance\n",
       "4       1           education\n",
       "5       1           parenting\n",
       "6       1            teaching\n",
       "7       2  alternative energy\n",
       "8       2                cars\n",
       "9       2      climate change"
      ]
     },
     "execution_count": 33,
     "metadata": {},
     "output_type": "execute_result"
    }
   ],
   "source": [
    "print(tags_df.shape)\n",
    "tags_df.head(10)"
   ]
  },
  {
   "cell_type": "markdown",
   "metadata": {
    "colab_type": "text",
    "id": "-h4TyGtHeLzq"
   },
   "source": [
    "*Awesome ! Now we have totally 4 tables (1 origin and 3 extra)*"
   ]
  },
  {
   "cell_type": "code",
   "execution_count": 34,
   "metadata": {
    "colab": {},
    "colab_type": "code",
    "id": "KrPINnHMG6kn"
   },
   "outputs": [],
   "source": [
    "tags_df.to_csv('tags.csv')"
   ]
  },
  {
   "cell_type": "markdown",
   "metadata": {
    "colab_type": "text",
    "id": "j6T_PLwTfxPl"
   },
   "source": [
    "# Explore Data Analysis"
   ]
  },
  {
   "cell_type": "markdown",
   "metadata": {
    "colab_type": "text",
    "id": "eOgElIHljlAI"
   },
   "source": [
    "*Let's see how numerical values correlate with each other*"
   ]
  },
  {
   "cell_type": "markdown",
   "metadata": {
    "colab_type": "text",
    "id": "iT-OK7f_hwU-"
   },
   "source": [
    "*But we need to choose int type column first*\n"
   ]
  },
  {
   "cell_type": "code",
   "execution_count": 35,
   "metadata": {
    "colab": {},
    "colab_type": "code",
    "id": "lQlLGZ5hjAH4"
   },
   "outputs": [],
   "source": [
    "TedIntColumns=data.select_dtypes(include=['int64'])"
   ]
  },
  {
   "cell_type": "code",
   "execution_count": 36,
   "metadata": {
    "colab": {},
    "colab_type": "code",
    "id": "HvGuTualj0nd"
   },
   "outputs": [
    {
     "data": {
      "text/plain": [
       "<matplotlib.axes._subplots.AxesSubplot at 0x9392790048>"
      ]
     },
     "execution_count": 36,
     "metadata": {},
     "output_type": "execute_result"
    },
    {
     "data": {
      "image/png": "[encoded data removed]",
      "text/plain": [
       "<Figure size 648x432 with 2 Axes>"
      ]
     },
     "metadata": {
      "needs_background": "light"
     },
     "output_type": "display_data"
    }
   ],
   "source": [
    "plt.figure(figsize=(9,6))\n",
    "sns.heatmap(TedIntColumns.corr(),linewidths=.5,cmap=\"Blues\")"
   ]
  },
  {
   "cell_type": "markdown",
   "metadata": {
    "colab_type": "text",
    "id": "aX05iknUiBwF"
   },
   "source": [
    "*Interesting ! Maybe there is a highly correlation between published_date and film date*"
   ]
  },
  {
   "cell_type": "markdown",
   "metadata": {
    "colab_type": "text",
    "id": "r195vvsDY4LY"
   },
   "source": [
    "*Let's find the answer for the big question : What makes a talk successful. Is it speaker , duration , language or topic*"
   ]
  },
  {
   "cell_type": "markdown",
   "metadata": {
    "colab_type": "text",
    "id": "Rbcd-nbfjlwT"
   },
   "source": [
    "*Let's see top 10 speakers who have the most view*"
   ]
  },
  {
   "cell_type": "code",
   "execution_count": 37,
   "metadata": {
    "colab": {
     "base_uri": "https://localhost:8080/",
     "height": 482
    },
    "colab_type": "code",
    "executionInfo": {
     "elapsed": 1043,
     "status": "ok",
     "timestamp": 1576158959385,
     "user": {
      "displayName": "Dinh Nguyễn",
      "photoUrl": "",
      "userId": "10515043973440487618"
     },
     "user_tz": -420
    },
    "id": "U-cyols_kJ0y",
    "outputId": "f4dfb9c8-139e-41cf-c0a1-3e19cd39edb5"
   },
   "outputs": [
    {
     "data": {
      "text/plain": [
       "<matplotlib.axes._subplots.AxesSubplot at 0x9392b1dd08>"
      ]
     },
     "execution_count": 37,
     "metadata": {},
     "output_type": "execute_result"
    },
    {
     "data": {
      "image/png": "[encoded data removed]",
      "text/plain": [
       "<Figure size 648x432 with 1 Axes>"
      ]
     },
     "metadata": {
      "needs_background": "light"
     },
     "output_type": "display_data"
    }
   ],
   "source": [
    "plt.figure(figsize=(9,6))\n",
    "data.groupby('main_speaker').views.sum().nlargest(10).plot.bar(y='sum view',x='speaker')"
   ]
  },
  {
   "cell_type": "markdown",
   "metadata": {
    "colab_type": "text",
    "id": "U-op-a_zZcu2"
   },
   "source": [
    "*Ken Robinson has the highest view. Maybe he is the success key. So soon to answer. Why don't we investigate more ?*"
   ]
  },
  {
   "cell_type": "markdown",
   "metadata": {
    "colab_type": "text",
    "id": "4UNa74S7aK6l"
   },
   "source": [
    "*Below is total talks he hosted*"
   ]
  },
  {
   "cell_type": "code",
   "execution_count": 38,
   "metadata": {
    "cellView": "both",
    "colab": {
     "base_uri": "https://localhost:8080/",
     "height": 443
    },
    "colab_type": "code",
    "executionInfo": {
     "elapsed": 889,
     "status": "ok",
     "timestamp": 1576160769467,
     "user": {
      "displayName": "Dinh Nguyễn",
      "photoUrl": "",
      "userId": "10515043973440487618"
     },
     "user_tz": -420
    },
    "id": "E_8iJp5mbGJg",
    "outputId": "61952fc8-2ad2-437f-d66c-2769797ef4c3"
   },
   "outputs": [
    {
     "data": {
      "text/plain": [
       "Text(0, 0.5, 'title')"
      ]
     },
     "execution_count": 38,
     "metadata": {},
     "output_type": "execute_result"
    },
    {
     "data": {
      "image/png": "[encoded data removed]",
      "text/plain": [
       "<Figure size 648x432 with 1 Axes>"
      ]
     },
     "metadata": {
      "needs_background": "light"
     },
     "output_type": "display_data"
    }
   ],
   "source": [
    "#@title Default title tex\n",
    "plt.figure(figsize=(9,6))\n",
    "plt.barh(y='title',width='views',data=data[data['main_speaker']=='Ken Robinson'])\n",
    "plt.title('total talks of Ken Robinson',fontsize=30)\n",
    "plt.xlabel('views',fontsize=20)\n",
    "plt.ylabel('title',fontsize=20)"
   ]
  },
  {
   "cell_type": "markdown",
   "metadata": {
    "colab_type": "text",
    "id": "uGjV6HAjdBzw"
   },
   "source": [
    "*He has only 4 talks and just one of them very very hot (47M views).While there are more 2500 talks.Let's check top 10 speaker has the highest view mean*"
   ]
  },
  {
   "cell_type": "code",
   "execution_count": 39,
   "metadata": {},
   "outputs": [
    {
     "data": {
      "text/html": [
       "<div>\n",
       "<style scoped>\n",
       "    .dataframe tbody tr th:only-of-type {\n",
       "        vertical-align: middle;\n",
       "    }\n",
       "\n",
       "    .dataframe tbody tr th {\n",
       "        vertical-align: top;\n",
       "    }\n",
       "\n",
       "    .dataframe thead th {\n",
       "        text-align: right;\n",
       "    }\n",
       "</style>\n",
       "<table border=\"1\" class=\"dataframe\">\n",
       "  <thead>\n",
       "    <tr style=\"text-align: right;\">\n",
       "      <th></th>\n",
       "      <th>Main speaker</th>\n",
       "      <th>Views</th>\n",
       "    </tr>\n",
       "  </thead>\n",
       "  <tbody>\n",
       "    <tr>\n",
       "      <th>0</th>\n",
       "      <td>Amy Cuddy</td>\n",
       "      <td>43155405.0</td>\n",
       "    </tr>\n",
       "    <tr>\n",
       "      <th>1</th>\n",
       "      <td>Mary Roach</td>\n",
       "      <td>22270883.0</td>\n",
       "    </tr>\n",
       "    <tr>\n",
       "      <th>2</th>\n",
       "      <td>Jill Bolte Taylor</td>\n",
       "      <td>21190883.0</td>\n",
       "    </tr>\n",
       "    <tr>\n",
       "      <th>3</th>\n",
       "      <td>Tony Robbins</td>\n",
       "      <td>20685401.0</td>\n",
       "    </tr>\n",
       "    <tr>\n",
       "      <th>4</th>\n",
       "      <td>Simon Sinek</td>\n",
       "      <td>20556685.0</td>\n",
       "    </tr>\n",
       "  </tbody>\n",
       "</table>\n",
       "</div>"
      ],
      "text/plain": [
       "        Main speaker       Views\n",
       "0          Amy Cuddy  43155405.0\n",
       "1         Mary Roach  22270883.0\n",
       "2  Jill Bolte Taylor  21190883.0\n",
       "3       Tony Robbins  20685401.0\n",
       "4        Simon Sinek  20556685.0"
      ]
     },
     "execution_count": 39,
     "metadata": {},
     "output_type": "execute_result"
    }
   ],
   "source": [
    "top_main = data.groupby('main_speaker')['views'].mean().sort_values(ascending=False).head(5)\n",
    "lyst_speaker = top_main.index.to_list()\n",
    "views = list(top_main.values)\n",
    "frame = {'Main speaker':lyst_speaker,'Views':views}\n",
    "top_main_speaker = pd.DataFrame(frame)\n",
    "top_main_speaker"
   ]
  },
  {
   "cell_type": "code",
   "execution_count": 40,
   "metadata": {
    "colab": {
     "base_uri": "https://localhost:8080/",
     "height": 443
    },
    "colab_type": "code",
    "executionInfo": {
     "elapsed": 1259,
     "status": "ok",
     "timestamp": 1576161941409,
     "user": {
      "displayName": "Dinh Nguyễn",
      "photoUrl": "",
      "userId": "10515043973440487618"
     },
     "user_tz": -420
    },
    "id": "sUT5jStLgUHQ",
    "outputId": "7d68b681-119b-47a3-ff06-fcf0f3bb7289"
   },
   "outputs": [
    {
     "data": {
      "text/plain": [
       "Text(0, 0.5, 'Speaker')"
      ]
     },
     "execution_count": 40,
     "metadata": {},
     "output_type": "execute_result"
    },
    {
     "data": {
      "image/png": "[encoded data removed]",
      "text/plain": [
       "<Figure size 648x432 with 1 Axes>"
      ]
     },
     "metadata": {
      "needs_background": "light"
     },
     "output_type": "display_data"
    }
   ],
   "source": [
    "plt.figure(figsize=(9,6))\n",
    "plt.barh(y = 'Main speaker',width='Views',data = top_main_speaker)\n",
    "plt.title('Top 5 highest - mean speaker',fontsize=30)\n",
    "plt.xlabel('views',fontsize=20)\n",
    "plt.ylabel('Speaker',fontsize=20)"
   ]
  },
  {
   "cell_type": "markdown",
   "metadata": {
    "colab_type": "text",
    "id": "bYbPO7Rik3nP"
   },
   "source": [
    "*See ! He is not even available in this list. That is why main speaker can not be the success key of a talk !*"
   ]
  },
  {
   "cell_type": "markdown",
   "metadata": {
    "colab_type": "text",
    "id": "MWwnltwllKte"
   },
   "source": [
    "*Let's fly to duraion !*"
   ]
  },
  {
   "cell_type": "code",
   "execution_count": 41,
   "metadata": {
    "colab": {
     "base_uri": "https://localhost:8080/",
     "height": 661
    },
    "colab_type": "code",
    "executionInfo": {
     "elapsed": 1325,
     "status": "ok",
     "timestamp": 1576163007835,
     "user": {
      "displayName": "Dinh Nguyễn",
      "photoUrl": "",
      "userId": "10515043973440487618"
     },
     "user_tz": -420
    },
    "id": "Tj28DlkOlt-4",
    "outputId": "56f6a1f8-93be-461a-c9de-261fc2e23906"
   },
   "outputs": [
    {
     "data": {
      "text/plain": [
       "Text(0.5, 0, 'duration (in min)')"
      ]
     },
     "execution_count": 41,
     "metadata": {},
     "output_type": "execute_result"
    },
    {
     "data": {
      "image/png": "[encoded data removed]",
      "text/plain": [
       "<Figure size 1080x720 with 1 Axes>"
      ]
     },
     "metadata": {
      "needs_background": "light"
     },
     "output_type": "display_data"
    }
   ],
   "source": [
    "plt.figure(figsize=(15,10))\n",
    "plt.scatter(x=data['duration']//60,y='views',data=data,c='r',marker='o')\n",
    "plt.title('Duration - Views',fontsize=30)\n",
    "plt.ylabel('views (in 10M)',fontsize=20)\n",
    "plt.xlabel('duration (in min)',fontsize=20)\n"
   ]
  },
  {
   "cell_type": "markdown",
   "metadata": {
    "colab_type": "text",
    "id": "_Cpoj5DanLDh"
   },
   "source": [
    "*Easy to see that the longer talk is, the less view is !*"
   ]
  },
  {
   "cell_type": "markdown",
   "metadata": {
    "colab_type": "text",
    "id": "i6wb3rp5nTg3"
   },
   "source": [
    "*It's gonna be awesome for a talk whose duration drops between 15 and 25 minutes*"
   ]
  },
  {
   "cell_type": "markdown",
   "metadata": {
    "colab_type": "text",
    "id": "F6Dc_DHzoLP2"
   },
   "source": [
    "*So guess the next criterion ! Maybe language ? Who knows ? Let's check it out !*"
   ]
  },
  {
   "cell_type": "code",
   "execution_count": 42,
   "metadata": {
    "colab": {
     "base_uri": "https://localhost:8080/",
     "height": 661
    },
    "colab_type": "code",
    "executionInfo": {
     "elapsed": 1811,
     "status": "ok",
     "timestamp": 1576163115838,
     "user": {
      "displayName": "Dinh Nguyễn",
      "photoUrl": "",
      "userId": "10515043973440487618"
     },
     "user_tz": -420
    },
    "id": "AMYBRN-QopGe",
    "outputId": "68c40b5d-984a-4eee-b629-900c1f4e2c41"
   },
   "outputs": [
    {
     "data": {
      "text/plain": [
       "Text(0.5, 0, 'languages')"
      ]
     },
     "execution_count": 42,
     "metadata": {},
     "output_type": "execute_result"
    },
    {
     "data": {
      "image/png": "[encoded data removed]",
      "text/plain": [
       "<Figure size 1080x720 with 1 Axes>"
      ]
     },
     "metadata": {
      "needs_background": "light"
     },
     "output_type": "display_data"
    }
   ],
   "source": [
    "plt.figure(figsize=(15,10))\n",
    "plt.scatter(x='languages',y='views',data=data,c='g',marker='o')\n",
    "plt.title('Languages - Views',fontsize=30)\n",
    "plt.ylabel('views (in 10M)',fontsize=20)\n",
    "plt.xlabel('languages',fontsize=20)"
   ]
  },
  {
   "cell_type": "markdown",
   "metadata": {
    "colab_type": "text",
    "id": "44fKeA-KpOBT"
   },
   "source": [
    "*In Ted Talks , there are so many languages having been used(Maximum is 72 and minimum is 0). Sounds weird! Actually not! You can see on Youtube, talks with zero language are dancing videos! Interesting !*"
   ]
  },
  {
   "cell_type": "markdown",
   "metadata": {
    "colab_type": "text",
    "id": "X4GovmQJqNTA"
   },
   "source": [
    "*Also we can see easily that the more languages are,the more popular talk is. Hence language is the next milestone of talk success !*"
   ]
  },
  {
   "cell_type": "markdown",
   "metadata": {
    "colab_type": "text",
    "id": "GsGsbqgNGtj-"
   },
   "source": [
    "*Now take a look at topics !*"
   ]
  },
  {
   "cell_type": "markdown",
   "metadata": {
    "colab_type": "text",
    "id": "p-Lg15NGHCk6"
   },
   "source": [
    "*However we need to merge data and tags_df and save it into **tag_merge** dataframe first*"
   ]
  },
  {
   "cell_type": "code",
   "execution_count": 43,
   "metadata": {
    "colab": {},
    "colab_type": "code",
    "id": "uoSY0FanG-gc"
   },
   "outputs": [],
   "source": [
    "tag_merge = tags_df.merge(data,on='talk_id')[['talk_id','tags_x','comments','views']]\n",
    "tag_merge_view = tag_merge.groupby('tags_x')['views'].mean().sort_values(ascending=False).head(5).sort_values(ascending=True)\n",
    "tag_merge_comment = tag_merge.groupby('tags_x')['comments'].mean().sort_values(ascending=False).head(5).sort_values(ascending=True)"
   ]
  },
  {
   "cell_type": "code",
   "execution_count": 44,
   "metadata": {
    "colab": {
     "base_uri": "https://localhost:8080/",
     "height": 661
    },
    "colab_type": "code",
    "executionInfo": {
     "elapsed": 842,
     "status": "ok",
     "timestamp": 1576170443554,
     "user": {
      "displayName": "Dinh Nguyễn",
      "photoUrl": "",
      "userId": "10515043973440487618"
     },
     "user_tz": -420
    },
    "id": "zwlkJNXx4dxf",
    "outputId": "124eae25-77d4-408a-ecce-b02e21bf84fe"
   },
   "outputs": [
    {
     "data": {
      "text/plain": [
       "Text(0, 0.5, 'Tag')"
      ]
     },
     "execution_count": 44,
     "metadata": {},
     "output_type": "execute_result"
    },
    {
     "data": {
      "image/png": "[encoded data removed]",
      "text/plain": [
       "<Figure size 864x720 with 1 Axes>"
      ]
     },
     "metadata": {
      "needs_background": "light"
     },
     "output_type": "display_data"
    }
   ],
   "source": [
    "plt.figure(figsize=(12,10))\n",
    "plt.barh(y = tag_merge_view.index,width=tag_merge_view.values,data = tag_merge_view)\n",
    "plt.title('Top 5 highest - view - per - talk TAG',fontsize=30)\n",
    "plt.xlabel('views',fontsize=20)\n",
    "plt.ylabel('Tag',fontsize=20)"
   ]
  },
  {
   "cell_type": "code",
   "execution_count": 45,
   "metadata": {
    "colab": {
     "base_uri": "https://localhost:8080/",
     "height": 661
    },
    "colab_type": "code",
    "executionInfo": {
     "elapsed": 1461,
     "status": "ok",
     "timestamp": 1576170452812,
     "user": {
      "displayName": "Dinh Nguyễn",
      "photoUrl": "",
      "userId": "10515043973440487618"
     },
     "user_tz": -420
    },
    "id": "AfqHz9rEDTf0",
    "outputId": "745d3e98-9eca-418d-d4ee-30e7467898ce"
   },
   "outputs": [
    {
     "data": {
      "text/plain": [
       "Text(0, 0.5, 'Tag')"
      ]
     },
     "execution_count": 45,
     "metadata": {},
     "output_type": "execute_result"
    },
    {
     "data": {
      "image/png": "[encoded data removed]",
      "text/plain": [
       "<Figure size 864x720 with 1 Axes>"
      ]
     },
     "metadata": {
      "needs_background": "light"
     },
     "output_type": "display_data"
    }
   ],
   "source": [
    "plt.figure(figsize=(12,10))\n",
    "plt.barh(y = tag_merge_comment.index,width=tag_merge_comment.values,data = tag_merge_comment)\n",
    "plt.title('Top 5 highest - comment tag',fontsize=30)\n",
    "plt.xlabel('comments',fontsize=20)\n",
    "plt.ylabel('Tag',fontsize=20)"
   ]
  },
  {
   "cell_type": "markdown",
   "metadata": {
    "colab_type": "text",
    "id": "n6XbsPk2Ha8T"
   },
   "source": [
    "*Clearly topic is the most promising issue for success talk !*"
   ]
  },
  {
   "cell_type": "markdown",
   "metadata": {
    "colab_type": "text",
    "id": "uo7M8KeJq__g"
   },
   "source": [
    "*Now let's find out the talk distribution over time*"
   ]
  },
  {
   "cell_type": "markdown",
   "metadata": {
    "colab_type": "text",
    "id": "TwBuQ05TrVQP"
   },
   "source": [
    "*However we need to convert film_date and published_date into real time*"
   ]
  },
  {
   "cell_type": "code",
   "execution_count": 46,
   "metadata": {},
   "outputs": [],
   "source": [
    "# data['film_date'].astype('datetime64[s]')"
   ]
  },
  {
   "cell_type": "code",
   "execution_count": 47,
   "metadata": {
    "colab": {},
    "colab_type": "code",
    "id": "hCwkn2qeqKIL"
   },
   "outputs": [],
   "source": [
    "import datetime\n",
    "data['film_date']=pd.to_datetime(data['film_date'].astype('datetime64[s]'),unit='s')\n",
    "data['published_date']=pd.to_datetime(data['published_date'].astype('datetime64[s]'),unit='s')"
   ]
  },
  {
   "cell_type": "code",
   "execution_count": 48,
   "metadata": {
    "colab": {
     "base_uri": "https://localhost:8080/",
     "height": 622
    },
    "colab_type": "code",
    "executionInfo": {
     "elapsed": 1035,
     "status": "ok",
     "timestamp": 1576164008619,
     "user": {
      "displayName": "Dinh Nguyễn",
      "photoUrl": "",
      "userId": "10515043973440487618"
     },
     "user_tz": -420
    },
    "id": "orAP3rUarq3i",
    "outputId": "950c1078-bd37-4a48-b3fa-8705d8ae4342"
   },
   "outputs": [
    {
     "data": {
      "text/plain": [
       "Text(0.5, 0, 'Year')"
      ]
     },
     "execution_count": 48,
     "metadata": {},
     "output_type": "execute_result"
    },
    {
     "data": {
      "image/png": "[encoded data removed]",
      "text/plain": [
       "<Figure size 864x648 with 1 Axes>"
      ]
     },
     "metadata": {
      "needs_background": "light"
     },
     "output_type": "display_data"
    }
   ],
   "source": [
    "plt.figure(figsize=(12,9))\n",
    "data.groupby(data.published_date.dt.year).title.count().plot.bar()\n",
    "plt.title('Talk distribution over year',fontsize=30)\n",
    "plt.ylabel('Talk number',fontsize=20)\n",
    "plt.xlabel('Year',fontsize=20)"
   ]
  },
  {
   "cell_type": "markdown",
   "metadata": {
    "colab_type": "text",
    "id": "IanhhD2Ls-Uv"
   },
   "source": [
    "*What about talk distribution over month ?*"
   ]
  },
  {
   "cell_type": "code",
   "execution_count": 49,
   "metadata": {
    "colab": {
     "base_uri": "https://localhost:8080/",
     "height": 672
    },
    "colab_type": "code",
    "executionInfo": {
     "elapsed": 1858,
     "status": "ok",
     "timestamp": 1576163983469,
     "user": {
      "displayName": "Dinh Nguyễn",
      "photoUrl": "",
      "userId": "10515043973440487618"
     },
     "user_tz": -420
    },
    "id": "Lx-YkYY_sEa_",
    "outputId": "3fe6e4fd-0314-491c-a75d-26268f9c2133"
   },
   "outputs": [
    {
     "data": {
      "text/plain": [
       "Text(0.5, 0, 'Month-Year')"
      ]
     },
     "execution_count": 49,
     "metadata": {},
     "output_type": "execute_result"
    },
    {
     "data": {
      "image/png": "[encoded data removed]",
      "text/plain": [
       "<Figure size 1080x720 with 1 Axes>"
      ]
     },
     "metadata": {
      "needs_background": "light"
     },
     "output_type": "display_data"
    }
   ],
   "source": [
    "plt.figure(figsize=(15,10))\n",
    "data['year']=data.published_date.dt.year\n",
    "data['month']=data.published_date.dt.month\n",
    "data.groupby(['year','month']).title.count().plot.line()\n",
    "plt.title('Talk distribution over month',fontsize=40)\n",
    "plt.ylabel('Talk number',fontsize=20)\n",
    "plt.xlabel('Month-Year',fontsize=20)"
   ]
  },
  {
   "cell_type": "markdown",
   "metadata": {
    "colab_type": "text",
    "id": "-HNtlZOBsuc5"
   },
   "source": []
  },
  {
   "cell_type": "markdown",
   "metadata": {
    "colab_type": "text",
    "id": "eUtNzSg_sptA"
   },
   "source": [
    "*Let's find out what is the most time to release talks*"
   ]
  },
  {
   "cell_type": "code",
   "execution_count": 50,
   "metadata": {
    "colab": {},
    "colab_type": "code",
    "id": "Idr5rEeftM9y"
   },
   "outputs": [],
   "source": [
    "Ted_month=data.groupby(['year','month']).title.count().reset_index(name='talks')\n",
    "Ted_month=Ted_month.pivot('year','month','talks')\n",
    "Ted_month.fillna(0,inplace=True)"
   ]
  },
  {
   "cell_type": "code",
   "execution_count": 51,
   "metadata": {
    "colab": {
     "base_uri": "https://localhost:8080/",
     "height": 552
    },
    "colab_type": "code",
    "executionInfo": {
     "elapsed": 1598,
     "status": "ok",
     "timestamp": 1576170584019,
     "user": {
      "displayName": "Dinh Nguyễn",
      "photoUrl": "",
      "userId": "10515043973440487618"
     },
     "user_tz": -420
    },
    "id": "OZV1WFtTutdJ",
    "outputId": "9511b43e-7c90-4852-b844-6879fbfad3ad"
   },
   "outputs": [
    {
     "data": {
      "text/plain": [
       "Text(0.5, 1, 'Number of talks over time')"
      ]
     },
     "execution_count": 51,
     "metadata": {},
     "output_type": "execute_result"
    },
    {
     "data": {
      "image/png": "[encoded data removed]",
      "text/plain": [
       "<Figure size 864x576 with 2 Axes>"
      ]
     },
     "metadata": {
      "needs_background": "light"
     },
     "output_type": "display_data"
    }
   ],
   "source": [
    "plt.figure(figsize=(12,8))\n",
    "sns.heatmap(Ted_month,cmap=\"Greens\")\n",
    "plt.xlabel('Month',fontsize=20)\n",
    "plt.ylabel('Year',fontsize=20)\n",
    "plt.title('Number of talks over time',fontsize=30)"
   ]
  },
  {
   "cell_type": "markdown",
   "metadata": {
    "colab_type": "text",
    "id": "pb_K9z1UHvgx"
   },
   "source": [
    "*In conclusion Ted Talk should focus on*\n",
    "- *Main speaker : it does not matter*\n",
    "- *Duration : about 15 - 25 min*\n",
    "- *Language : the more the better*\n",
    "- *Release time : first half of a year*\n",
    "- *Topic : body language , testing , success*"
   ]
  }
 ],
 "metadata": {
  "colab": {
   "collapsed_sections": [
    "fPfmsN8YixLg",
    "eWkuk-qVlp91",
    "cnbWbvQXAeJp",
    "krZwDTcAAzPz",
    "nduvN6D7EU1_"
   ],
   "name": "Dinh_version_TedTalkAnalysis.ipynb",
   "provenance": [
    {
     "file_id": "1TWlLYj0O0kwSVZo_8JnxOSQU_vAuZmIq",
     "timestamp": 1575213259434
    }
   ]
  },
  "kernelspec": {
   "display_name": "Python 3",
   "language": "python",
   "name": "python3"
  },
  "language_info": {
   "codemirror_mode": {
    "name": "ipython",
    "version": 3
   },
   "file_extension": ".py",
   "mimetype": "text/x-python",
   "name": "python",
   "nbconvert_exporter": "python",
   "pygments_lexer": "ipython3",
   "version": "3.7.5"
  }
 },
 "nbformat": 4,
 "nbformat_minor": 1
}
